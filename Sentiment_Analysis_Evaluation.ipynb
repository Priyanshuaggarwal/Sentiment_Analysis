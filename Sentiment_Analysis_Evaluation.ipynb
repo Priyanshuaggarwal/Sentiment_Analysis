{
  "nbformat": 4,
  "nbformat_minor": 0,
  "metadata": {
    "kernelspec": {
      "display_name": "Python 3",
      "language": "python",
      "name": "python3"
    },
    "language_info": {
      "codemirror_mode": {
        "name": "ipython",
        "version": 3
      },
      "file_extension": ".py",
      "mimetype": "text/x-python",
      "name": "python",
      "nbconvert_exporter": "python",
      "pygments_lexer": "ipython3",
      "version": "3.7.6"
    },
    "colab": {
      "name": "Sentiment_Analysis_Evaluation.ipynb",
      "provenance": [],
      "collapsed_sections": []
    }
  },
  "cells": [
    {
      "cell_type": "markdown",
      "metadata": {
        "id": "H3re-d0Y82Ya"
      },
      "source": [
        "**SENTIMENT ANALYSIS ON DATASET: AMAZON ALEXA REVIEWS**\n",
        "\n",
        "Importing Necessary Libraries"
      ]
    },
    {
      "cell_type": "code",
      "metadata": {
        "colab": {
          "base_uri": "https://localhost:8080/"
        },
        "id": "yRtDf3EL82Yb",
        "outputId": "ce84e643-a66d-4c33-dce8-b80c7ebdb931"
      },
      "source": [
        "import nltk\n",
        "nltk.download('punkt')\n",
        "nltk.download('stopwords')\n",
        "nltk.download('wordnet')\n",
        "\n",
        "import numpy as np\n",
        "import pandas as pd\n",
        "import matplotlib.pyplot as plt\n",
        "%matplotlib inline"
      ],
      "execution_count": 1,
      "outputs": [
        {
          "output_type": "stream",
          "text": [
            "[nltk_data] Downloading package punkt to /root/nltk_data...\n",
            "[nltk_data]   Unzipping tokenizers/punkt.zip.\n",
            "[nltk_data] Downloading package stopwords to /root/nltk_data...\n",
            "[nltk_data]   Unzipping corpora/stopwords.zip.\n",
            "[nltk_data] Downloading package wordnet to /root/nltk_data...\n",
            "[nltk_data]   Unzipping corpora/wordnet.zip.\n"
          ],
          "name": "stdout"
        }
      ]
    },
    {
      "cell_type": "markdown",
      "metadata": {
        "id": "xzeAiItf82Yc"
      },
      "source": [
        "**reading the tsv file**"
      ]
    },
    {
      "cell_type": "code",
      "metadata": {
        "id": "uL_oJGCA82Yd"
      },
      "source": [
        "df = pd.read_csv(\"amazon_alexa.tsv\",sep=\"\\t\")"
      ],
      "execution_count": 2,
      "outputs": []
    },
    {
      "cell_type": "markdown",
      "metadata": {
        "id": "hdcl3bgo82Yd"
      },
      "source": [
        "**understanding the dataset**"
      ]
    },
    {
      "cell_type": "code",
      "metadata": {
        "colab": {
          "base_uri": "https://localhost:8080/"
        },
        "id": "T4DXP-eb82Ye",
        "outputId": "689ecf3e-75d7-4246-ec14-aea266148845"
      },
      "source": [
        "df.keys()\n",
        "#these are the different columns present in our dataset"
      ],
      "execution_count": 3,
      "outputs": [
        {
          "output_type": "execute_result",
          "data": {
            "text/plain": [
              "Index(['rating', 'date', 'variation', 'verified_reviews', 'feedback'], dtype='object')"
            ]
          },
          "metadata": {
            "tags": []
          },
          "execution_count": 3
        }
      ]
    },
    {
      "cell_type": "code",
      "metadata": {
        "colab": {
          "base_uri": "https://localhost:8080/"
        },
        "id": "_e567jkb82Ye",
        "outputId": "f7e66e0a-1a2e-4b56-d5c2-44d4d2bb9fc6"
      },
      "source": [
        "df.shape\n",
        "#gives the size of dataset"
      ],
      "execution_count": 4,
      "outputs": [
        {
          "output_type": "execute_result",
          "data": {
            "text/plain": [
              "(3150, 5)"
            ]
          },
          "metadata": {
            "tags": []
          },
          "execution_count": 4
        }
      ]
    },
    {
      "cell_type": "code",
      "metadata": {
        "colab": {
          "base_uri": "https://localhost:8080/",
          "height": 343
        },
        "id": "AKkz_lvc82Ye",
        "outputId": "8138325b-c857-4e08-9ff9-4470cb58a96f"
      },
      "source": [
        "#shows the first 10 rows of the dataset\n",
        "df.head(10)"
      ],
      "execution_count": 5,
      "outputs": [
        {
          "output_type": "execute_result",
          "data": {
            "text/html": [
              "<div>\n",
              "<style scoped>\n",
              "    .dataframe tbody tr th:only-of-type {\n",
              "        vertical-align: middle;\n",
              "    }\n",
              "\n",
              "    .dataframe tbody tr th {\n",
              "        vertical-align: top;\n",
              "    }\n",
              "\n",
              "    .dataframe thead th {\n",
              "        text-align: right;\n",
              "    }\n",
              "</style>\n",
              "<table border=\"1\" class=\"dataframe\">\n",
              "  <thead>\n",
              "    <tr style=\"text-align: right;\">\n",
              "      <th></th>\n",
              "      <th>rating</th>\n",
              "      <th>date</th>\n",
              "      <th>variation</th>\n",
              "      <th>verified_reviews</th>\n",
              "      <th>feedback</th>\n",
              "    </tr>\n",
              "  </thead>\n",
              "  <tbody>\n",
              "    <tr>\n",
              "      <th>0</th>\n",
              "      <td>5</td>\n",
              "      <td>31-Jul-18</td>\n",
              "      <td>Charcoal Fabric</td>\n",
              "      <td>Love my Echo!</td>\n",
              "      <td>1</td>\n",
              "    </tr>\n",
              "    <tr>\n",
              "      <th>1</th>\n",
              "      <td>5</td>\n",
              "      <td>31-Jul-18</td>\n",
              "      <td>Charcoal Fabric</td>\n",
              "      <td>Loved it!</td>\n",
              "      <td>1</td>\n",
              "    </tr>\n",
              "    <tr>\n",
              "      <th>2</th>\n",
              "      <td>4</td>\n",
              "      <td>31-Jul-18</td>\n",
              "      <td>Walnut Finish</td>\n",
              "      <td>Sometimes while playing a game, you can answer...</td>\n",
              "      <td>1</td>\n",
              "    </tr>\n",
              "    <tr>\n",
              "      <th>3</th>\n",
              "      <td>5</td>\n",
              "      <td>31-Jul-18</td>\n",
              "      <td>Charcoal Fabric</td>\n",
              "      <td>I have had a lot of fun with this thing. My 4 ...</td>\n",
              "      <td>1</td>\n",
              "    </tr>\n",
              "    <tr>\n",
              "      <th>4</th>\n",
              "      <td>5</td>\n",
              "      <td>31-Jul-18</td>\n",
              "      <td>Charcoal Fabric</td>\n",
              "      <td>Music</td>\n",
              "      <td>1</td>\n",
              "    </tr>\n",
              "    <tr>\n",
              "      <th>5</th>\n",
              "      <td>5</td>\n",
              "      <td>31-Jul-18</td>\n",
              "      <td>Heather Gray Fabric</td>\n",
              "      <td>I received the echo as a gift. I needed anothe...</td>\n",
              "      <td>1</td>\n",
              "    </tr>\n",
              "    <tr>\n",
              "      <th>6</th>\n",
              "      <td>3</td>\n",
              "      <td>31-Jul-18</td>\n",
              "      <td>Sandstone Fabric</td>\n",
              "      <td>Without having a cellphone, I cannot use many ...</td>\n",
              "      <td>1</td>\n",
              "    </tr>\n",
              "    <tr>\n",
              "      <th>7</th>\n",
              "      <td>5</td>\n",
              "      <td>31-Jul-18</td>\n",
              "      <td>Charcoal Fabric</td>\n",
              "      <td>I think this is the 5th one I've purchased. I'...</td>\n",
              "      <td>1</td>\n",
              "    </tr>\n",
              "    <tr>\n",
              "      <th>8</th>\n",
              "      <td>5</td>\n",
              "      <td>30-Jul-18</td>\n",
              "      <td>Heather Gray Fabric</td>\n",
              "      <td>looks great</td>\n",
              "      <td>1</td>\n",
              "    </tr>\n",
              "    <tr>\n",
              "      <th>9</th>\n",
              "      <td>5</td>\n",
              "      <td>30-Jul-18</td>\n",
              "      <td>Heather Gray Fabric</td>\n",
              "      <td>Love it! I’ve listened to songs I haven’t hear...</td>\n",
              "      <td>1</td>\n",
              "    </tr>\n",
              "  </tbody>\n",
              "</table>\n",
              "</div>"
            ],
            "text/plain": [
              "   rating  ... feedback\n",
              "0       5  ...        1\n",
              "1       5  ...        1\n",
              "2       4  ...        1\n",
              "3       5  ...        1\n",
              "4       5  ...        1\n",
              "5       5  ...        1\n",
              "6       3  ...        1\n",
              "7       5  ...        1\n",
              "8       5  ...        1\n",
              "9       5  ...        1\n",
              "\n",
              "[10 rows x 5 columns]"
            ]
          },
          "metadata": {
            "tags": []
          },
          "execution_count": 5
        }
      ]
    },
    {
      "cell_type": "code",
      "metadata": {
        "colab": {
          "base_uri": "https://localhost:8080/",
          "height": 284
        },
        "id": "wYEbfNO482Yf",
        "outputId": "8e1dca14-9ab4-41e0-c2d8-4fbd97dfd759"
      },
      "source": [
        "df.describe()\n",
        "#from the mean we can say that reviews are mostly positive"
      ],
      "execution_count": 6,
      "outputs": [
        {
          "output_type": "execute_result",
          "data": {
            "text/html": [
              "<div>\n",
              "<style scoped>\n",
              "    .dataframe tbody tr th:only-of-type {\n",
              "        vertical-align: middle;\n",
              "    }\n",
              "\n",
              "    .dataframe tbody tr th {\n",
              "        vertical-align: top;\n",
              "    }\n",
              "\n",
              "    .dataframe thead th {\n",
              "        text-align: right;\n",
              "    }\n",
              "</style>\n",
              "<table border=\"1\" class=\"dataframe\">\n",
              "  <thead>\n",
              "    <tr style=\"text-align: right;\">\n",
              "      <th></th>\n",
              "      <th>rating</th>\n",
              "      <th>feedback</th>\n",
              "    </tr>\n",
              "  </thead>\n",
              "  <tbody>\n",
              "    <tr>\n",
              "      <th>count</th>\n",
              "      <td>3150.000000</td>\n",
              "      <td>3150.000000</td>\n",
              "    </tr>\n",
              "    <tr>\n",
              "      <th>mean</th>\n",
              "      <td>4.463175</td>\n",
              "      <td>0.918413</td>\n",
              "    </tr>\n",
              "    <tr>\n",
              "      <th>std</th>\n",
              "      <td>1.068506</td>\n",
              "      <td>0.273778</td>\n",
              "    </tr>\n",
              "    <tr>\n",
              "      <th>min</th>\n",
              "      <td>1.000000</td>\n",
              "      <td>0.000000</td>\n",
              "    </tr>\n",
              "    <tr>\n",
              "      <th>25%</th>\n",
              "      <td>4.000000</td>\n",
              "      <td>1.000000</td>\n",
              "    </tr>\n",
              "    <tr>\n",
              "      <th>50%</th>\n",
              "      <td>5.000000</td>\n",
              "      <td>1.000000</td>\n",
              "    </tr>\n",
              "    <tr>\n",
              "      <th>75%</th>\n",
              "      <td>5.000000</td>\n",
              "      <td>1.000000</td>\n",
              "    </tr>\n",
              "    <tr>\n",
              "      <th>max</th>\n",
              "      <td>5.000000</td>\n",
              "      <td>1.000000</td>\n",
              "    </tr>\n",
              "  </tbody>\n",
              "</table>\n",
              "</div>"
            ],
            "text/plain": [
              "            rating     feedback\n",
              "count  3150.000000  3150.000000\n",
              "mean      4.463175     0.918413\n",
              "std       1.068506     0.273778\n",
              "min       1.000000     0.000000\n",
              "25%       4.000000     1.000000\n",
              "50%       5.000000     1.000000\n",
              "75%       5.000000     1.000000\n",
              "max       5.000000     1.000000"
            ]
          },
          "metadata": {
            "tags": []
          },
          "execution_count": 6
        }
      ]
    },
    {
      "cell_type": "code",
      "metadata": {
        "colab": {
          "base_uri": "https://localhost:8080/"
        },
        "id": "kDk66yMZ82Yf",
        "outputId": "11c07d3e-dd66-4c61-ba13-36292b0b64bc"
      },
      "source": [
        "corr_matrix = df.corr()\n",
        "corr_matrix['feedback'].sort_values(ascending=False)\n",
        "#there is high correlation between rating and feedback"
      ],
      "execution_count": 7,
      "outputs": [
        {
          "output_type": "execute_result",
          "data": {
            "text/plain": [
              "feedback    1.000000\n",
              "rating      0.861968\n",
              "Name: feedback, dtype: float64"
            ]
          },
          "metadata": {
            "tags": []
          },
          "execution_count": 7
        }
      ]
    },
    {
      "cell_type": "code",
      "metadata": {
        "colab": {
          "base_uri": "https://localhost:8080/"
        },
        "id": "Tz65mV0X82Yf",
        "outputId": "0dc9ce8f-2b57-4f67-8a7f-a4cbcc01206d"
      },
      "source": [
        "df['feedback'].value_counts()\n",
        "#imbalanced dataset"
      ],
      "execution_count": 8,
      "outputs": [
        {
          "output_type": "execute_result",
          "data": {
            "text/plain": [
              "1    2893\n",
              "0     257\n",
              "Name: feedback, dtype: int64"
            ]
          },
          "metadata": {
            "tags": []
          },
          "execution_count": 8
        }
      ]
    },
    {
      "cell_type": "code",
      "metadata": {
        "colab": {
          "base_uri": "https://localhost:8080/"
        },
        "id": "NVTaF1CN82Yf",
        "outputId": "9458cb1f-2944-4eea-ab4f-3729cb5240f2"
      },
      "source": [
        "df.info()\n",
        "#gives brief info about all the columns"
      ],
      "execution_count": 9,
      "outputs": [
        {
          "output_type": "stream",
          "text": [
            "<class 'pandas.core.frame.DataFrame'>\n",
            "RangeIndex: 3150 entries, 0 to 3149\n",
            "Data columns (total 5 columns):\n",
            " #   Column            Non-Null Count  Dtype \n",
            "---  ------            --------------  ----- \n",
            " 0   rating            3150 non-null   int64 \n",
            " 1   date              3150 non-null   object\n",
            " 2   variation         3150 non-null   object\n",
            " 3   verified_reviews  3150 non-null   object\n",
            " 4   feedback          3150 non-null   int64 \n",
            "dtypes: int64(2), object(3)\n",
            "memory usage: 123.2+ KB\n"
          ],
          "name": "stdout"
        }
      ]
    },
    {
      "cell_type": "code",
      "metadata": {
        "colab": {
          "base_uri": "https://localhost:8080/"
        },
        "id": "3PsOQcK782Yg",
        "outputId": "fda7f663-9129-4faa-bb37-6e37add41aa2"
      },
      "source": [
        "#check if there is any missing or null values in dataset\n",
        "df.isna().sum()\n",
        "df.isnull().sum()"
      ],
      "execution_count": 10,
      "outputs": [
        {
          "output_type": "execute_result",
          "data": {
            "text/plain": [
              "rating              0\n",
              "date                0\n",
              "variation           0\n",
              "verified_reviews    0\n",
              "feedback            0\n",
              "dtype: int64"
            ]
          },
          "metadata": {
            "tags": []
          },
          "execution_count": 10
        }
      ]
    },
    {
      "cell_type": "markdown",
      "metadata": {
        "id": "i4vUVgn082Yg"
      },
      "source": [
        "Hence we conclude that there are no missing values and no null values present in dataset"
      ]
    },
    {
      "cell_type": "markdown",
      "metadata": {
        "id": "uUA8dVsa82Yg"
      },
      "source": [
        "**Plots for visualising how data features related in the dataset**"
      ]
    },
    {
      "cell_type": "code",
      "metadata": {
        "colab": {
          "base_uri": "https://localhost:8080/",
          "height": 254
        },
        "id": "LFzAb4i582Yh",
        "outputId": "51a6c3c9-5633-4029-b023-1e1e84b7f9e3"
      },
      "source": [
        "#feedback is our target variable\n",
        "df.groupby('rating').describe()"
      ],
      "execution_count": 11,
      "outputs": [
        {
          "output_type": "execute_result",
          "data": {
            "text/html": [
              "<div>\n",
              "<style scoped>\n",
              "    .dataframe tbody tr th:only-of-type {\n",
              "        vertical-align: middle;\n",
              "    }\n",
              "\n",
              "    .dataframe tbody tr th {\n",
              "        vertical-align: top;\n",
              "    }\n",
              "\n",
              "    .dataframe thead tr th {\n",
              "        text-align: left;\n",
              "    }\n",
              "\n",
              "    .dataframe thead tr:last-of-type th {\n",
              "        text-align: right;\n",
              "    }\n",
              "</style>\n",
              "<table border=\"1\" class=\"dataframe\">\n",
              "  <thead>\n",
              "    <tr>\n",
              "      <th></th>\n",
              "      <th colspan=\"8\" halign=\"left\">feedback</th>\n",
              "    </tr>\n",
              "    <tr>\n",
              "      <th></th>\n",
              "      <th>count</th>\n",
              "      <th>mean</th>\n",
              "      <th>std</th>\n",
              "      <th>min</th>\n",
              "      <th>25%</th>\n",
              "      <th>50%</th>\n",
              "      <th>75%</th>\n",
              "      <th>max</th>\n",
              "    </tr>\n",
              "    <tr>\n",
              "      <th>rating</th>\n",
              "      <th></th>\n",
              "      <th></th>\n",
              "      <th></th>\n",
              "      <th></th>\n",
              "      <th></th>\n",
              "      <th></th>\n",
              "      <th></th>\n",
              "      <th></th>\n",
              "    </tr>\n",
              "  </thead>\n",
              "  <tbody>\n",
              "    <tr>\n",
              "      <th>1</th>\n",
              "      <td>161.0</td>\n",
              "      <td>0.0</td>\n",
              "      <td>0.0</td>\n",
              "      <td>0.0</td>\n",
              "      <td>0.0</td>\n",
              "      <td>0.0</td>\n",
              "      <td>0.0</td>\n",
              "      <td>0.0</td>\n",
              "    </tr>\n",
              "    <tr>\n",
              "      <th>2</th>\n",
              "      <td>96.0</td>\n",
              "      <td>0.0</td>\n",
              "      <td>0.0</td>\n",
              "      <td>0.0</td>\n",
              "      <td>0.0</td>\n",
              "      <td>0.0</td>\n",
              "      <td>0.0</td>\n",
              "      <td>0.0</td>\n",
              "    </tr>\n",
              "    <tr>\n",
              "      <th>3</th>\n",
              "      <td>152.0</td>\n",
              "      <td>1.0</td>\n",
              "      <td>0.0</td>\n",
              "      <td>1.0</td>\n",
              "      <td>1.0</td>\n",
              "      <td>1.0</td>\n",
              "      <td>1.0</td>\n",
              "      <td>1.0</td>\n",
              "    </tr>\n",
              "    <tr>\n",
              "      <th>4</th>\n",
              "      <td>455.0</td>\n",
              "      <td>1.0</td>\n",
              "      <td>0.0</td>\n",
              "      <td>1.0</td>\n",
              "      <td>1.0</td>\n",
              "      <td>1.0</td>\n",
              "      <td>1.0</td>\n",
              "      <td>1.0</td>\n",
              "    </tr>\n",
              "    <tr>\n",
              "      <th>5</th>\n",
              "      <td>2286.0</td>\n",
              "      <td>1.0</td>\n",
              "      <td>0.0</td>\n",
              "      <td>1.0</td>\n",
              "      <td>1.0</td>\n",
              "      <td>1.0</td>\n",
              "      <td>1.0</td>\n",
              "      <td>1.0</td>\n",
              "    </tr>\n",
              "  </tbody>\n",
              "</table>\n",
              "</div>"
            ],
            "text/plain": [
              "       feedback                                   \n",
              "          count mean  std  min  25%  50%  75%  max\n",
              "rating                                            \n",
              "1         161.0  0.0  0.0  0.0  0.0  0.0  0.0  0.0\n",
              "2          96.0  0.0  0.0  0.0  0.0  0.0  0.0  0.0\n",
              "3         152.0  1.0  0.0  1.0  1.0  1.0  1.0  1.0\n",
              "4         455.0  1.0  0.0  1.0  1.0  1.0  1.0  1.0\n",
              "5        2286.0  1.0  0.0  1.0  1.0  1.0  1.0  1.0"
            ]
          },
          "metadata": {
            "tags": []
          },
          "execution_count": 11
        }
      ]
    },
    {
      "cell_type": "code",
      "metadata": {
        "colab": {
          "base_uri": "https://localhost:8080/",
          "height": 265
        },
        "id": "vXWhu8e282Yh",
        "outputId": "b5817799-6e8b-45e5-98f5-fde87376f633"
      },
      "source": [
        "#visualising the result\n",
        "df['rating'].value_counts().plot.pie()"
      ],
      "execution_count": 12,
      "outputs": [
        {
          "output_type": "execute_result",
          "data": {
            "text/plain": [
              "<matplotlib.axes._subplots.AxesSubplot at 0x7ff858304550>"
            ]
          },
          "metadata": {
            "tags": []
          },
          "execution_count": 12
        },
        {
          "output_type": "display_data",
          "data": {
            "image/png": "[encoded data removed]",
            "text/plain": [
              "<Figure size 432x288 with 1 Axes>"
            ]
          },
          "metadata": {
            "tags": []
          }
        }
      ]
    },
    {
      "cell_type": "markdown",
      "metadata": {
        "id": "X4L_rFaSvieq"
      },
      "source": [
        "We can see majority of our ratings are postive and very less negative ratings"
      ]
    },
    {
      "cell_type": "code",
      "metadata": {
        "colab": {
          "base_uri": "https://localhost:8080/",
          "height": 166
        },
        "id": "FTDCI3Rj82Yh",
        "outputId": "5eda9f83-7666-4125-ed5c-9c10b0c1ead2"
      },
      "source": [
        "df.groupby('feedback').describe()"
      ],
      "execution_count": 13,
      "outputs": [
        {
          "output_type": "execute_result",
          "data": {
            "text/html": [
              "<div>\n",
              "<style scoped>\n",
              "    .dataframe tbody tr th:only-of-type {\n",
              "        vertical-align: middle;\n",
              "    }\n",
              "\n",
              "    .dataframe tbody tr th {\n",
              "        vertical-align: top;\n",
              "    }\n",
              "\n",
              "    .dataframe thead tr th {\n",
              "        text-align: left;\n",
              "    }\n",
              "\n",
              "    .dataframe thead tr:last-of-type th {\n",
              "        text-align: right;\n",
              "    }\n",
              "</style>\n",
              "<table border=\"1\" class=\"dataframe\">\n",
              "  <thead>\n",
              "    <tr>\n",
              "      <th></th>\n",
              "      <th colspan=\"8\" halign=\"left\">rating</th>\n",
              "    </tr>\n",
              "    <tr>\n",
              "      <th></th>\n",
              "      <th>count</th>\n",
              "      <th>mean</th>\n",
              "      <th>std</th>\n",
              "      <th>min</th>\n",
              "      <th>25%</th>\n",
              "      <th>50%</th>\n",
              "      <th>75%</th>\n",
              "      <th>max</th>\n",
              "    </tr>\n",
              "    <tr>\n",
              "      <th>feedback</th>\n",
              "      <th></th>\n",
              "      <th></th>\n",
              "      <th></th>\n",
              "      <th></th>\n",
              "      <th></th>\n",
              "      <th></th>\n",
              "      <th></th>\n",
              "      <th></th>\n",
              "    </tr>\n",
              "  </thead>\n",
              "  <tbody>\n",
              "    <tr>\n",
              "      <th>0</th>\n",
              "      <td>257.0</td>\n",
              "      <td>1.373541</td>\n",
              "      <td>0.484688</td>\n",
              "      <td>1.0</td>\n",
              "      <td>1.0</td>\n",
              "      <td>1.0</td>\n",
              "      <td>2.0</td>\n",
              "      <td>2.0</td>\n",
              "    </tr>\n",
              "    <tr>\n",
              "      <th>1</th>\n",
              "      <td>2893.0</td>\n",
              "      <td>4.737643</td>\n",
              "      <td>0.546544</td>\n",
              "      <td>3.0</td>\n",
              "      <td>5.0</td>\n",
              "      <td>5.0</td>\n",
              "      <td>5.0</td>\n",
              "      <td>5.0</td>\n",
              "    </tr>\n",
              "  </tbody>\n",
              "</table>\n",
              "</div>"
            ],
            "text/plain": [
              "          rating                                             \n",
              "           count      mean       std  min  25%  50%  75%  max\n",
              "feedback                                                     \n",
              "0          257.0  1.373541  0.484688  1.0  1.0  1.0  2.0  2.0\n",
              "1         2893.0  4.737643  0.546544  3.0  5.0  5.0  5.0  5.0"
            ]
          },
          "metadata": {
            "tags": []
          },
          "execution_count": 13
        }
      ]
    },
    {
      "cell_type": "code",
      "metadata": {
        "colab": {
          "base_uri": "https://localhost:8080/",
          "height": 280
        },
        "id": "yMq3FkvL82Yh",
        "outputId": "4217eba9-6d72-4bb8-b41a-9385fa47dadc"
      },
      "source": [
        "df['feedback'].value_counts().plot.bar()"
      ],
      "execution_count": 14,
      "outputs": [
        {
          "output_type": "execute_result",
          "data": {
            "text/plain": [
              "<matplotlib.axes._subplots.AxesSubplot at 0x7ff8585c0cd0>"
            ]
          },
          "metadata": {
            "tags": []
          },
          "execution_count": 14
        },
        {
          "output_type": "display_data",
          "data": {
            "image/png": "[encoded data removed]",
            "text/plain": [
              "<Figure size 432x288 with 1 Axes>"
            ]
          },
          "metadata": {
            "tags": [],
            "needs_background": "light"
          }
        }
      ]
    },
    {
      "cell_type": "code",
      "metadata": {
        "colab": {
          "base_uri": "https://localhost:8080/",
          "height": 580
        },
        "id": "zgYlfjRT82Yi",
        "outputId": "fdc52e89-704e-4ecd-d89e-874e482f6a7f"
      },
      "source": [
        "df.groupby('variation').describe()"
      ],
      "execution_count": 15,
      "outputs": [
        {
          "output_type": "execute_result",
          "data": {
            "text/html": [
              "<div>\n",
              "<style scoped>\n",
              "    .dataframe tbody tr th:only-of-type {\n",
              "        vertical-align: middle;\n",
              "    }\n",
              "\n",
              "    .dataframe tbody tr th {\n",
              "        vertical-align: top;\n",
              "    }\n",
              "\n",
              "    .dataframe thead tr th {\n",
              "        text-align: left;\n",
              "    }\n",
              "\n",
              "    .dataframe thead tr:last-of-type th {\n",
              "        text-align: right;\n",
              "    }\n",
              "</style>\n",
              "<table border=\"1\" class=\"dataframe\">\n",
              "  <thead>\n",
              "    <tr>\n",
              "      <th></th>\n",
              "      <th colspan=\"8\" halign=\"left\">rating</th>\n",
              "      <th colspan=\"8\" halign=\"left\">feedback</th>\n",
              "    </tr>\n",
              "    <tr>\n",
              "      <th></th>\n",
              "      <th>count</th>\n",
              "      <th>mean</th>\n",
              "      <th>std</th>\n",
              "      <th>min</th>\n",
              "      <th>25%</th>\n",
              "      <th>50%</th>\n",
              "      <th>75%</th>\n",
              "      <th>max</th>\n",
              "      <th>count</th>\n",
              "      <th>mean</th>\n",
              "      <th>std</th>\n",
              "      <th>min</th>\n",
              "      <th>25%</th>\n",
              "      <th>50%</th>\n",
              "      <th>75%</th>\n",
              "      <th>max</th>\n",
              "    </tr>\n",
              "    <tr>\n",
              "      <th>variation</th>\n",
              "      <th></th>\n",
              "      <th></th>\n",
              "      <th></th>\n",
              "      <th></th>\n",
              "      <th></th>\n",
              "      <th></th>\n",
              "      <th></th>\n",
              "      <th></th>\n",
              "      <th></th>\n",
              "      <th></th>\n",
              "      <th></th>\n",
              "      <th></th>\n",
              "      <th></th>\n",
              "      <th></th>\n",
              "      <th></th>\n",
              "      <th></th>\n",
              "    </tr>\n",
              "  </thead>\n",
              "  <tbody>\n",
              "    <tr>\n",
              "      <th>Black</th>\n",
              "      <td>261.0</td>\n",
              "      <td>4.233716</td>\n",
              "      <td>1.339838</td>\n",
              "      <td>1.0</td>\n",
              "      <td>4.0</td>\n",
              "      <td>5.0</td>\n",
              "      <td>5.0</td>\n",
              "      <td>5.0</td>\n",
              "      <td>261.0</td>\n",
              "      <td>0.865900</td>\n",
              "      <td>0.341414</td>\n",
              "      <td>0.0</td>\n",
              "      <td>1.0</td>\n",
              "      <td>1.0</td>\n",
              "      <td>1.0</td>\n",
              "      <td>1.0</td>\n",
              "    </tr>\n",
              "    <tr>\n",
              "      <th>Black  Dot</th>\n",
              "      <td>516.0</td>\n",
              "      <td>4.453488</td>\n",
              "      <td>1.027660</td>\n",
              "      <td>1.0</td>\n",
              "      <td>4.0</td>\n",
              "      <td>5.0</td>\n",
              "      <td>5.0</td>\n",
              "      <td>5.0</td>\n",
              "      <td>516.0</td>\n",
              "      <td>0.930233</td>\n",
              "      <td>0.255002</td>\n",
              "      <td>0.0</td>\n",
              "      <td>1.0</td>\n",
              "      <td>1.0</td>\n",
              "      <td>1.0</td>\n",
              "      <td>1.0</td>\n",
              "    </tr>\n",
              "    <tr>\n",
              "      <th>Black  Plus</th>\n",
              "      <td>270.0</td>\n",
              "      <td>4.370370</td>\n",
              "      <td>1.158391</td>\n",
              "      <td>1.0</td>\n",
              "      <td>4.0</td>\n",
              "      <td>5.0</td>\n",
              "      <td>5.0</td>\n",
              "      <td>5.0</td>\n",
              "      <td>270.0</td>\n",
              "      <td>0.896296</td>\n",
              "      <td>0.305442</td>\n",
              "      <td>0.0</td>\n",
              "      <td>1.0</td>\n",
              "      <td>1.0</td>\n",
              "      <td>1.0</td>\n",
              "      <td>1.0</td>\n",
              "    </tr>\n",
              "    <tr>\n",
              "      <th>Black  Show</th>\n",
              "      <td>265.0</td>\n",
              "      <td>4.490566</td>\n",
              "      <td>0.996635</td>\n",
              "      <td>1.0</td>\n",
              "      <td>4.0</td>\n",
              "      <td>5.0</td>\n",
              "      <td>5.0</td>\n",
              "      <td>5.0</td>\n",
              "      <td>265.0</td>\n",
              "      <td>0.932075</td>\n",
              "      <td>0.252092</td>\n",
              "      <td>0.0</td>\n",
              "      <td>1.0</td>\n",
              "      <td>1.0</td>\n",
              "      <td>1.0</td>\n",
              "      <td>1.0</td>\n",
              "    </tr>\n",
              "    <tr>\n",
              "      <th>Black  Spot</th>\n",
              "      <td>241.0</td>\n",
              "      <td>4.311203</td>\n",
              "      <td>1.247764</td>\n",
              "      <td>1.0</td>\n",
              "      <td>4.0</td>\n",
              "      <td>5.0</td>\n",
              "      <td>5.0</td>\n",
              "      <td>5.0</td>\n",
              "      <td>241.0</td>\n",
              "      <td>0.867220</td>\n",
              "      <td>0.340043</td>\n",
              "      <td>0.0</td>\n",
              "      <td>1.0</td>\n",
              "      <td>1.0</td>\n",
              "      <td>1.0</td>\n",
              "      <td>1.0</td>\n",
              "    </tr>\n",
              "    <tr>\n",
              "      <th>Charcoal Fabric</th>\n",
              "      <td>430.0</td>\n",
              "      <td>4.730233</td>\n",
              "      <td>0.683994</td>\n",
              "      <td>1.0</td>\n",
              "      <td>5.0</td>\n",
              "      <td>5.0</td>\n",
              "      <td>5.0</td>\n",
              "      <td>5.0</td>\n",
              "      <td>430.0</td>\n",
              "      <td>0.972093</td>\n",
              "      <td>0.164898</td>\n",
              "      <td>0.0</td>\n",
              "      <td>1.0</td>\n",
              "      <td>1.0</td>\n",
              "      <td>1.0</td>\n",
              "      <td>1.0</td>\n",
              "    </tr>\n",
              "    <tr>\n",
              "      <th>Configuration: Fire TV Stick</th>\n",
              "      <td>350.0</td>\n",
              "      <td>4.591429</td>\n",
              "      <td>0.990751</td>\n",
              "      <td>1.0</td>\n",
              "      <td>5.0</td>\n",
              "      <td>5.0</td>\n",
              "      <td>5.0</td>\n",
              "      <td>5.0</td>\n",
              "      <td>350.0</td>\n",
              "      <td>0.920000</td>\n",
              "      <td>0.271682</td>\n",
              "      <td>0.0</td>\n",
              "      <td>1.0</td>\n",
              "      <td>1.0</td>\n",
              "      <td>1.0</td>\n",
              "      <td>1.0</td>\n",
              "    </tr>\n",
              "    <tr>\n",
              "      <th>Heather Gray Fabric</th>\n",
              "      <td>157.0</td>\n",
              "      <td>4.694268</td>\n",
              "      <td>0.647108</td>\n",
              "      <td>2.0</td>\n",
              "      <td>5.0</td>\n",
              "      <td>5.0</td>\n",
              "      <td>5.0</td>\n",
              "      <td>5.0</td>\n",
              "      <td>157.0</td>\n",
              "      <td>0.987261</td>\n",
              "      <td>0.112504</td>\n",
              "      <td>0.0</td>\n",
              "      <td>1.0</td>\n",
              "      <td>1.0</td>\n",
              "      <td>1.0</td>\n",
              "      <td>1.0</td>\n",
              "    </tr>\n",
              "    <tr>\n",
              "      <th>Oak Finish</th>\n",
              "      <td>14.0</td>\n",
              "      <td>4.857143</td>\n",
              "      <td>0.363137</td>\n",
              "      <td>4.0</td>\n",
              "      <td>5.0</td>\n",
              "      <td>5.0</td>\n",
              "      <td>5.0</td>\n",
              "      <td>5.0</td>\n",
              "      <td>14.0</td>\n",
              "      <td>1.000000</td>\n",
              "      <td>0.000000</td>\n",
              "      <td>1.0</td>\n",
              "      <td>1.0</td>\n",
              "      <td>1.0</td>\n",
              "      <td>1.0</td>\n",
              "      <td>1.0</td>\n",
              "    </tr>\n",
              "    <tr>\n",
              "      <th>Sandstone Fabric</th>\n",
              "      <td>90.0</td>\n",
              "      <td>4.355556</td>\n",
              "      <td>0.997875</td>\n",
              "      <td>1.0</td>\n",
              "      <td>4.0</td>\n",
              "      <td>5.0</td>\n",
              "      <td>5.0</td>\n",
              "      <td>5.0</td>\n",
              "      <td>90.0</td>\n",
              "      <td>0.933333</td>\n",
              "      <td>0.250841</td>\n",
              "      <td>0.0</td>\n",
              "      <td>1.0</td>\n",
              "      <td>1.0</td>\n",
              "      <td>1.0</td>\n",
              "      <td>1.0</td>\n",
              "    </tr>\n",
              "    <tr>\n",
              "      <th>Walnut Finish</th>\n",
              "      <td>9.0</td>\n",
              "      <td>4.888889</td>\n",
              "      <td>0.333333</td>\n",
              "      <td>4.0</td>\n",
              "      <td>5.0</td>\n",
              "      <td>5.0</td>\n",
              "      <td>5.0</td>\n",
              "      <td>5.0</td>\n",
              "      <td>9.0</td>\n",
              "      <td>1.000000</td>\n",
              "      <td>0.000000</td>\n",
              "      <td>1.0</td>\n",
              "      <td>1.0</td>\n",
              "      <td>1.0</td>\n",
              "      <td>1.0</td>\n",
              "      <td>1.0</td>\n",
              "    </tr>\n",
              "    <tr>\n",
              "      <th>White</th>\n",
              "      <td>91.0</td>\n",
              "      <td>4.142857</td>\n",
              "      <td>1.464934</td>\n",
              "      <td>1.0</td>\n",
              "      <td>4.0</td>\n",
              "      <td>5.0</td>\n",
              "      <td>5.0</td>\n",
              "      <td>5.0</td>\n",
              "      <td>91.0</td>\n",
              "      <td>0.813187</td>\n",
              "      <td>0.391921</td>\n",
              "      <td>0.0</td>\n",
              "      <td>1.0</td>\n",
              "      <td>1.0</td>\n",
              "      <td>1.0</td>\n",
              "      <td>1.0</td>\n",
              "    </tr>\n",
              "    <tr>\n",
              "      <th>White  Dot</th>\n",
              "      <td>184.0</td>\n",
              "      <td>4.423913</td>\n",
              "      <td>1.047857</td>\n",
              "      <td>1.0</td>\n",
              "      <td>4.0</td>\n",
              "      <td>5.0</td>\n",
              "      <td>5.0</td>\n",
              "      <td>5.0</td>\n",
              "      <td>184.0</td>\n",
              "      <td>0.934783</td>\n",
              "      <td>0.247583</td>\n",
              "      <td>0.0</td>\n",
              "      <td>1.0</td>\n",
              "      <td>1.0</td>\n",
              "      <td>1.0</td>\n",
              "      <td>1.0</td>\n",
              "    </tr>\n",
              "    <tr>\n",
              "      <th>White  Plus</th>\n",
              "      <td>78.0</td>\n",
              "      <td>4.358974</td>\n",
              "      <td>1.184032</td>\n",
              "      <td>1.0</td>\n",
              "      <td>4.0</td>\n",
              "      <td>5.0</td>\n",
              "      <td>5.0</td>\n",
              "      <td>5.0</td>\n",
              "      <td>78.0</td>\n",
              "      <td>0.897436</td>\n",
              "      <td>0.305352</td>\n",
              "      <td>0.0</td>\n",
              "      <td>1.0</td>\n",
              "      <td>1.0</td>\n",
              "      <td>1.0</td>\n",
              "      <td>1.0</td>\n",
              "    </tr>\n",
              "    <tr>\n",
              "      <th>White  Show</th>\n",
              "      <td>85.0</td>\n",
              "      <td>4.282353</td>\n",
              "      <td>1.278129</td>\n",
              "      <td>1.0</td>\n",
              "      <td>4.0</td>\n",
              "      <td>5.0</td>\n",
              "      <td>5.0</td>\n",
              "      <td>5.0</td>\n",
              "      <td>85.0</td>\n",
              "      <td>0.870588</td>\n",
              "      <td>0.337647</td>\n",
              "      <td>0.0</td>\n",
              "      <td>1.0</td>\n",
              "      <td>1.0</td>\n",
              "      <td>1.0</td>\n",
              "      <td>1.0</td>\n",
              "    </tr>\n",
              "    <tr>\n",
              "      <th>White  Spot</th>\n",
              "      <td>109.0</td>\n",
              "      <td>4.311927</td>\n",
              "      <td>1.222454</td>\n",
              "      <td>1.0</td>\n",
              "      <td>4.0</td>\n",
              "      <td>5.0</td>\n",
              "      <td>5.0</td>\n",
              "      <td>5.0</td>\n",
              "      <td>109.0</td>\n",
              "      <td>0.889908</td>\n",
              "      <td>0.314450</td>\n",
              "      <td>0.0</td>\n",
              "      <td>1.0</td>\n",
              "      <td>1.0</td>\n",
              "      <td>1.0</td>\n",
              "      <td>1.0</td>\n",
              "    </tr>\n",
              "  </tbody>\n",
              "</table>\n",
              "</div>"
            ],
            "text/plain": [
              "                             rating                      ... feedback          \n",
              "                              count      mean       std  ...      50%  75%  max\n",
              "variation                                                ...                   \n",
              "Black                         261.0  4.233716  1.339838  ...      1.0  1.0  1.0\n",
              "Black  Dot                    516.0  4.453488  1.027660  ...      1.0  1.0  1.0\n",
              "Black  Plus                   270.0  4.370370  1.158391  ...      1.0  1.0  1.0\n",
              "Black  Show                   265.0  4.490566  0.996635  ...      1.0  1.0  1.0\n",
              "Black  Spot                   241.0  4.311203  1.247764  ...      1.0  1.0  1.0\n",
              "Charcoal Fabric               430.0  4.730233  0.683994  ...      1.0  1.0  1.0\n",
              "Configuration: Fire TV Stick  350.0  4.591429  0.990751  ...      1.0  1.0  1.0\n",
              "Heather Gray Fabric           157.0  4.694268  0.647108  ...      1.0  1.0  1.0\n",
              "Oak Finish                     14.0  4.857143  0.363137  ...      1.0  1.0  1.0\n",
              "Sandstone Fabric               90.0  4.355556  0.997875  ...      1.0  1.0  1.0\n",
              "Walnut Finish                   9.0  4.888889  0.333333  ...      1.0  1.0  1.0\n",
              "White                          91.0  4.142857  1.464934  ...      1.0  1.0  1.0\n",
              "White  Dot                    184.0  4.423913  1.047857  ...      1.0  1.0  1.0\n",
              "White  Plus                    78.0  4.358974  1.184032  ...      1.0  1.0  1.0\n",
              "White  Show                    85.0  4.282353  1.278129  ...      1.0  1.0  1.0\n",
              "White  Spot                   109.0  4.311927  1.222454  ...      1.0  1.0  1.0\n",
              "\n",
              "[16 rows x 16 columns]"
            ]
          },
          "metadata": {
            "tags": []
          },
          "execution_count": 15
        }
      ]
    },
    {
      "cell_type": "code",
      "metadata": {
        "colab": {
          "base_uri": "https://localhost:8080/",
          "height": 408
        },
        "id": "Eb4yCCLu82Yi",
        "outputId": "a747556a-1934-4421-d746-2856daf63f32"
      },
      "source": [
        "df['variation'].value_counts().plot.bar()\n",
        "#black dot most popular and walnut finish least popular from the graph"
      ],
      "execution_count": 16,
      "outputs": [
        {
          "output_type": "execute_result",
          "data": {
            "text/plain": [
              "<matplotlib.axes._subplots.AxesSubplot at 0x7ff857578b10>"
            ]
          },
          "metadata": {
            "tags": []
          },
          "execution_count": 16
        },
        {
          "output_type": "display_data",
          "data": {
            "image/png": "[encoded data removed]",
            "text/plain": [
              "<Figure size 432x288 with 1 Axes>"
            ]
          },
          "metadata": {
            "tags": [],
            "needs_background": "light"
          }
        }
      ]
    },
    {
      "cell_type": "markdown",
      "metadata": {
        "id": "wls183XI82Yi"
      },
      "source": [
        "**CLEANING OF DATA**\n",
        "\n",
        "Data contains the following\n",
        "1. Punctuation\n",
        "2. Emojis\n",
        "3. Capital letters"
      ]
    },
    {
      "cell_type": "markdown",
      "metadata": {
        "id": "mCpKQ6_v82Yi"
      },
      "source": [
        "**CONVERTING TEXT TO LOWER CASE**"
      ]
    },
    {
      "cell_type": "code",
      "metadata": {
        "colab": {
          "base_uri": "https://localhost:8080/"
        },
        "id": "bP8vnLvT82Yi",
        "outputId": "aa9ca2da-68e0-48e6-a78c-372d651f1c81"
      },
      "source": [
        "import string\n",
        "df['cleaned_reviews'] = df['verified_reviews'].str.lower()\n",
        "df['cleaned_reviews']\n",
        "#df"
      ],
      "execution_count": 17,
      "outputs": [
        {
          "output_type": "execute_result",
          "data": {
            "text/plain": [
              "0                                           love my echo!\n",
              "1                                               loved it!\n",
              "2       sometimes while playing a game, you can answer...\n",
              "3       i have had a lot of fun with this thing. my 4 ...\n",
              "4                                                   music\n",
              "                              ...                        \n",
              "3145    perfect for kids, adults and everyone in betwe...\n",
              "3146    listening to music, searching locations, check...\n",
              "3147    i do love these things, i have them running my...\n",
              "3148    only complaint i have is that the sound qualit...\n",
              "3149                                                 good\n",
              "Name: cleaned_reviews, Length: 3150, dtype: object"
            ]
          },
          "metadata": {
            "tags": []
          },
          "execution_count": 17
        }
      ]
    },
    {
      "cell_type": "markdown",
      "metadata": {
        "id": "GxAmD_N982Yj"
      },
      "source": [
        "**REMOVE PUNCTUATION**"
      ]
    },
    {
      "cell_type": "code",
      "metadata": {
        "colab": {
          "base_uri": "https://localhost:8080/"
        },
        "id": "coDXwx-U82Yj",
        "outputId": "67581164-e46b-4849-f080-a4ee26cc4e06"
      },
      "source": [
        "#print(string.punctuation)\n",
        "#removing punctuation\n",
        "df['cleaned_reviews'] = df['cleaned_reviews'].str.replace(\"[!#$%&'()*+,-./:;<=>?@[\\]^_`{|}~]\",'')\n",
        "df['cleaned_reviews']"
      ],
      "execution_count": 18,
      "outputs": [
        {
          "output_type": "execute_result",
          "data": {
            "text/plain": [
              "0                                            love my echo\n",
              "1                                                loved it\n",
              "2       sometimes while playing a game you can answer ...\n",
              "3       i have had a lot of fun with this thing my 4 y...\n",
              "4                                                   music\n",
              "                              ...                        \n",
              "3145      perfect for kids adults and everyone in between\n",
              "3146    listening to music searching locations checkin...\n",
              "3147    i do love these things i have them running my ...\n",
              "3148    only complaint i have is that the sound qualit...\n",
              "3149                                                 good\n",
              "Name: cleaned_reviews, Length: 3150, dtype: object"
            ]
          },
          "metadata": {
            "tags": []
          },
          "execution_count": 18
        }
      ]
    },
    {
      "cell_type": "markdown",
      "metadata": {
        "id": "zCUI8sUE82Yj"
      },
      "source": [
        "**REMOVE EMOTICONS**"
      ]
    },
    {
      "cell_type": "code",
      "metadata": {
        "colab": {
          "base_uri": "https://localhost:8080/"
        },
        "id": "PxN0KSRa82Yj",
        "outputId": "9ea7d857-6057-496c-8194-63f3191677cb"
      },
      "source": [
        "#removing emoticons\n",
        "import re\n",
        "def deEmojify(text):\n",
        "    regrex_pattern = re.compile(pattern = \"[\"\n",
        "        u\"\\U0001F600-\\U0001F64F\"  # emoticons\n",
        "        u\"\\U0001F300-\\U0001F5FF\"  # symbols & pictographs\n",
        "        u\"\\U0001F680-\\U0001F6FF\"  # transport & map symbols\n",
        "        u\"\\U0001F1E0-\\U0001F1FF\"  # flags (iOS)\n",
        "                           \"]+\", flags = re.UNICODE)\n",
        "    return regrex_pattern.sub(r'',text)\n",
        "\n",
        "df['cleaned_reviews'] = df['cleaned_reviews'].apply(lambda x :deEmojify(x) )\n",
        "df['cleaned_reviews'] "
      ],
      "execution_count": 19,
      "outputs": [
        {
          "output_type": "execute_result",
          "data": {
            "text/plain": [
              "0                                            love my echo\n",
              "1                                                loved it\n",
              "2       sometimes while playing a game you can answer ...\n",
              "3       i have had a lot of fun with this thing my 4 y...\n",
              "4                                                   music\n",
              "                              ...                        \n",
              "3145      perfect for kids adults and everyone in between\n",
              "3146    listening to music searching locations checkin...\n",
              "3147    i do love these things i have them running my ...\n",
              "3148    only complaint i have is that the sound qualit...\n",
              "3149                                                 good\n",
              "Name: cleaned_reviews, Length: 3150, dtype: object"
            ]
          },
          "metadata": {
            "tags": []
          },
          "execution_count": 19
        }
      ]
    },
    {
      "cell_type": "markdown",
      "metadata": {
        "id": "T-jEh9aYv5dg"
      },
      "source": [
        "1. Tokenisation\n",
        "2. Remove stopwords\n",
        "3. Stemming/lemmatization\n",
        "4. CountVectoriser"
      ]
    },
    {
      "cell_type": "markdown",
      "metadata": {
        "id": "jJq5w_gm82Yk"
      },
      "source": [
        "**TOKENISATION**"
      ]
    },
    {
      "cell_type": "code",
      "metadata": {
        "colab": {
          "base_uri": "https://localhost:8080/"
        },
        "id": "oOmd0_Kr82Yk",
        "outputId": "e69a1407-4787-47e5-d2c0-7741676a84f2"
      },
      "source": [
        "from nltk import word_tokenize\n",
        "df['text']=df['cleaned_reviews'].apply(word_tokenize)\n",
        "df['text']\n",
        "#df['text'][3148]"
      ],
      "execution_count": 20,
      "outputs": [
        {
          "output_type": "execute_result",
          "data": {
            "text/plain": [
              "0                                        [love, my, echo]\n",
              "1                                             [loved, it]\n",
              "2       [sometimes, while, playing, a, game, you, can,...\n",
              "3       [i, have, had, a, lot, of, fun, with, this, th...\n",
              "4                                                 [music]\n",
              "                              ...                        \n",
              "3145    [perfect, for, kids, adults, and, everyone, in...\n",
              "3146    [listening, to, music, searching, locations, c...\n",
              "3147    [i, do, love, these, things, i, have, them, ru...\n",
              "3148    [only, complaint, i, have, is, that, the, soun...\n",
              "3149                                               [good]\n",
              "Name: text, Length: 3150, dtype: object"
            ]
          },
          "metadata": {
            "tags": []
          },
          "execution_count": 20
        }
      ]
    },
    {
      "cell_type": "markdown",
      "metadata": {
        "id": "EulEOkO582Yk"
      },
      "source": [
        "**REMOVING STOPWORDS**"
      ]
    },
    {
      "cell_type": "code",
      "metadata": {
        "id": "02mO6bla82Yk",
        "colab": {
          "base_uri": "https://localhost:8080/"
        },
        "outputId": "fe588786-45f8-4b64-c57e-4e4eb1d141fa"
      },
      "source": [
        "#removing stopwords\n",
        "from nltk.corpus import stopwords\n",
        "stop_words = set(stopwords.words('english'))\n",
        "\n",
        "def remove_stopwords(x):\n",
        "    i=0\n",
        "    for w in x:\n",
        "        if w not in stop_words:\n",
        "           # print(w)\n",
        "            x[i]=w\n",
        "            i+=1\n",
        "    x=x[:i]\n",
        "    return x\n",
        "            \n",
        "            \n",
        "df['text'] = df['text'].apply(remove_stopwords)\n",
        "#df['text'][3148]"
      ],
      "execution_count": 23,
      "outputs": [
        {
          "output_type": "execute_result",
          "data": {
            "text/plain": [
              "['complaint',\n",
              " 'sound',\n",
              " 'quality',\n",
              " 'isnt',\n",
              " 'great',\n",
              " 'mostly',\n",
              " 'use',\n",
              " 'commands',\n",
              " 'though',\n",
              " 'another',\n",
              " 'dot',\n",
              " 'hooked',\n",
              " 'stereo',\n",
              " 'system',\n",
              " 'play',\n",
              " 'music',\n",
              " 'couple',\n",
              " 'friends',\n",
              " 'dot',\n",
              " 'dont',\n",
              " 'mind',\n",
              " 'audio',\n",
              " 'quality',\n",
              " 'youre',\n",
              " 'bothered',\n",
              " 'kind',\n",
              " 'thing',\n",
              " 'id',\n",
              " 'go',\n",
              " 'full',\n",
              " 'size',\n",
              " 'echo',\n",
              " 'make',\n",
              " 'sure',\n",
              " 'hook',\n",
              " 'larger',\n",
              " 'speakers']"
            ]
          },
          "metadata": {
            "tags": []
          },
          "execution_count": 23
        }
      ]
    },
    {
      "cell_type": "markdown",
      "metadata": {
        "id": "xkImok5Y82Yk"
      },
      "source": [
        "**LEMMATIZATION**"
      ]
    },
    {
      "cell_type": "code",
      "metadata": {
        "colab": {
          "base_uri": "https://localhost:8080/"
        },
        "id": "niOdqK6y82Yl",
        "outputId": "3962baa3-1d92-4894-b471-1c6abdce5a92"
      },
      "source": [
        "#lemmatization\n",
        "from nltk.stem import WordNetLemmatizer\n",
        "wnl = WordNetLemmatizer()\n",
        "def lemmatize(s):\n",
        "\n",
        "     s = [wnl.lemmatize(word) for word in s]\n",
        "     s=list(set(s))\n",
        "     return s\n",
        "\n",
        "#dataset = dataset.assign(col_lemma = dataset.col.apply(lambda x: lemmatize(x))\n",
        "df['text'] = df['text'].apply(lambda x:lemmatize(x))\n",
        "df['text']\n"
      ],
      "execution_count": 24,
      "outputs": [
        {
          "output_type": "execute_result",
          "data": {
            "text/plain": [
              "0                                            [love, echo]\n",
              "1                                                 [loved]\n",
              "2       [turn, alexa, sometimes, light, away, playing,...\n",
              "3       [light, fun, control, 4, old, sound, like, pla...\n",
              "4                                                 [music]\n",
              "                              ...                        \n",
              "3145                      [everyone, kid, adult, perfect]\n",
              "3146    [checking, looking, set, weather, simple, task...\n",
              "3147    [running, light, control, stat, adding, like, ...\n",
              "3148    [sound, make, mostly, play, audio, echo, hooke...\n",
              "3149                                               [good]\n",
              "Name: text, Length: 3150, dtype: object"
            ]
          },
          "metadata": {
            "tags": []
          },
          "execution_count": 24
        }
      ]
    },
    {
      "cell_type": "markdown",
      "metadata": {
        "id": "H8Zcex4J82Yl"
      },
      "source": [
        "**CONVERTING WORDS TO STRINGS TO APPLY FEATURE ENGINEERING**"
      ]
    },
    {
      "cell_type": "code",
      "metadata": {
        "colab": {
          "base_uri": "https://localhost:8080/",
          "height": 738
        },
        "id": "ElCW9nFA82Yl",
        "outputId": "3bd18813-dde0-43b0-c069-b693b2967831"
      },
      "source": [
        "df['sentences']=[\" \".join(text) for text in df['text'].values]\n",
        "df"
      ],
      "execution_count": 25,
      "outputs": [
        {
          "output_type": "execute_result",
          "data": {
            "text/html": [
              "<div>\n",
              "<style scoped>\n",
              "    .dataframe tbody tr th:only-of-type {\n",
              "        vertical-align: middle;\n",
              "    }\n",
              "\n",
              "    .dataframe tbody tr th {\n",
              "        vertical-align: top;\n",
              "    }\n",
              "\n",
              "    .dataframe thead th {\n",
              "        text-align: right;\n",
              "    }\n",
              "</style>\n",
              "<table border=\"1\" class=\"dataframe\">\n",
              "  <thead>\n",
              "    <tr style=\"text-align: right;\">\n",
              "      <th></th>\n",
              "      <th>rating</th>\n",
              "      <th>date</th>\n",
              "      <th>variation</th>\n",
              "      <th>verified_reviews</th>\n",
              "      <th>feedback</th>\n",
              "      <th>cleaned_reviews</th>\n",
              "      <th>text</th>\n",
              "      <th>sentences</th>\n",
              "    </tr>\n",
              "  </thead>\n",
              "  <tbody>\n",
              "    <tr>\n",
              "      <th>0</th>\n",
              "      <td>5</td>\n",
              "      <td>31-Jul-18</td>\n",
              "      <td>Charcoal Fabric</td>\n",
              "      <td>Love my Echo!</td>\n",
              "      <td>1</td>\n",
              "      <td>love my echo</td>\n",
              "      <td>[love, echo]</td>\n",
              "      <td>love echo</td>\n",
              "    </tr>\n",
              "    <tr>\n",
              "      <th>1</th>\n",
              "      <td>5</td>\n",
              "      <td>31-Jul-18</td>\n",
              "      <td>Charcoal Fabric</td>\n",
              "      <td>Loved it!</td>\n",
              "      <td>1</td>\n",
              "      <td>loved it</td>\n",
              "      <td>[loved]</td>\n",
              "      <td>loved</td>\n",
              "    </tr>\n",
              "    <tr>\n",
              "      <th>2</th>\n",
              "      <td>4</td>\n",
              "      <td>31-Jul-18</td>\n",
              "      <td>Walnut Finish</td>\n",
              "      <td>Sometimes while playing a game, you can answer...</td>\n",
              "      <td>1</td>\n",
              "      <td>sometimes while playing a game you can answer ...</td>\n",
              "      <td>[turn, alexa, sometimes, light, away, playing,...</td>\n",
              "      <td>turn alexa sometimes light away playing home q...</td>\n",
              "    </tr>\n",
              "    <tr>\n",
              "      <th>3</th>\n",
              "      <td>5</td>\n",
              "      <td>31-Jul-18</td>\n",
              "      <td>Charcoal Fabric</td>\n",
              "      <td>I have had a lot of fun with this thing. My 4 ...</td>\n",
              "      <td>1</td>\n",
              "      <td>i have had a lot of fun with this thing my 4 y...</td>\n",
              "      <td>[light, fun, control, 4, old, sound, like, pla...</td>\n",
              "      <td>light fun control 4 old sound like play well l...</td>\n",
              "    </tr>\n",
              "    <tr>\n",
              "      <th>4</th>\n",
              "      <td>5</td>\n",
              "      <td>31-Jul-18</td>\n",
              "      <td>Charcoal Fabric</td>\n",
              "      <td>Music</td>\n",
              "      <td>1</td>\n",
              "      <td>music</td>\n",
              "      <td>[music]</td>\n",
              "      <td>music</td>\n",
              "    </tr>\n",
              "    <tr>\n",
              "      <th>...</th>\n",
              "      <td>...</td>\n",
              "      <td>...</td>\n",
              "      <td>...</td>\n",
              "      <td>...</td>\n",
              "      <td>...</td>\n",
              "      <td>...</td>\n",
              "      <td>...</td>\n",
              "      <td>...</td>\n",
              "    </tr>\n",
              "    <tr>\n",
              "      <th>3145</th>\n",
              "      <td>5</td>\n",
              "      <td>30-Jul-18</td>\n",
              "      <td>Black  Dot</td>\n",
              "      <td>Perfect for kids, adults and everyone in betwe...</td>\n",
              "      <td>1</td>\n",
              "      <td>perfect for kids adults and everyone in between</td>\n",
              "      <td>[everyone, kid, adult, perfect]</td>\n",
              "      <td>everyone kid adult perfect</td>\n",
              "    </tr>\n",
              "    <tr>\n",
              "      <th>3146</th>\n",
              "      <td>5</td>\n",
              "      <td>30-Jul-18</td>\n",
              "      <td>Black  Dot</td>\n",
              "      <td>Listening to music, searching locations, check...</td>\n",
              "      <td>1</td>\n",
              "      <td>listening to music searching locations checkin...</td>\n",
              "      <td>[checking, looking, set, weather, simple, task...</td>\n",
              "      <td>checking looking set weather simple task music...</td>\n",
              "    </tr>\n",
              "    <tr>\n",
              "      <th>3147</th>\n",
              "      <td>5</td>\n",
              "      <td>30-Jul-18</td>\n",
              "      <td>Black  Dot</td>\n",
              "      <td>I do love these things, i have them running my...</td>\n",
              "      <td>1</td>\n",
              "      <td>i do love these things i have them running my ...</td>\n",
              "      <td>[running, light, control, stat, adding, like, ...</td>\n",
              "      <td>running light control stat adding like well do...</td>\n",
              "    </tr>\n",
              "    <tr>\n",
              "      <th>3148</th>\n",
              "      <td>5</td>\n",
              "      <td>30-Jul-18</td>\n",
              "      <td>White  Dot</td>\n",
              "      <td>Only complaint I have is that the sound qualit...</td>\n",
              "      <td>1</td>\n",
              "      <td>only complaint i have is that the sound qualit...</td>\n",
              "      <td>[sound, make, mostly, play, audio, echo, hooke...</td>\n",
              "      <td>sound make mostly play audio echo hooked go co...</td>\n",
              "    </tr>\n",
              "    <tr>\n",
              "      <th>3149</th>\n",
              "      <td>4</td>\n",
              "      <td>29-Jul-18</td>\n",
              "      <td>Black  Dot</td>\n",
              "      <td>Good</td>\n",
              "      <td>1</td>\n",
              "      <td>good</td>\n",
              "      <td>[good]</td>\n",
              "      <td>good</td>\n",
              "    </tr>\n",
              "  </tbody>\n",
              "</table>\n",
              "<p>3150 rows × 8 columns</p>\n",
              "</div>"
            ],
            "text/plain": [
              "      rating  ...                                          sentences\n",
              "0          5  ...                                          love echo\n",
              "1          5  ...                                              loved\n",
              "2          4  ...  turn alexa sometimes light away playing home q...\n",
              "3          5  ...  light fun control 4 old sound like play well l...\n",
              "4          5  ...                                              music\n",
              "...      ...  ...                                                ...\n",
              "3145       5  ...                         everyone kid adult perfect\n",
              "3146       5  ...  checking looking set weather simple task music...\n",
              "3147       5  ...  running light control stat adding like well do...\n",
              "3148       5  ...  sound make mostly play audio echo hooked go co...\n",
              "3149       4  ...                                               good\n",
              "\n",
              "[3150 rows x 8 columns]"
            ]
          },
          "metadata": {
            "tags": []
          },
          "execution_count": 25
        }
      ]
    },
    {
      "cell_type": "markdown",
      "metadata": {
        "id": "10JEXcJ482Yl"
      },
      "source": [
        "**SPLITTING DATASET INTO TRAINING AND TESTING**"
      ]
    },
    {
      "cell_type": "code",
      "metadata": {
        "id": "P25GEQUc82Yl"
      },
      "source": [
        "from sklearn.model_selection import train_test_split\n",
        "feedback = df['feedback']\n",
        "reviews = df['sentences']\n",
        "xtrain,xtest,ytrain,ytest = train_test_split(reviews,feedback,test_size=0.2,random_state=45) #splitting dataset with test size as 20%\n",
        "#print(xtrain)\n",
        "#print(xtest)"
      ],
      "execution_count": 26,
      "outputs": []
    },
    {
      "cell_type": "markdown",
      "metadata": {
        "id": "VzrMfNUj82Ym"
      },
      "source": [
        "**converting text to numbers for model application**"
      ]
    },
    {
      "cell_type": "code",
      "metadata": {
        "id": "2AX5JssE82Ym"
      },
      "source": [
        "from sklearn.feature_extraction.text import CountVectorizer, TfidfTransformer, TfidfVectorizer\n",
        "from sklearn.naive_bayes import MultinomialNB, GaussianNB\n",
        "from sklearn.svm import SVC\n",
        "from sklearn.metrics import classification_report,accuracy_score,roc_auc_score,confusion_matrix,f1_score"
      ],
      "execution_count": 27,
      "outputs": []
    },
    {
      "cell_type": "code",
      "metadata": {
        "colab": {
          "base_uri": "https://localhost:8080/"
        },
        "id": "RaASDTPZ82Ym",
        "outputId": "ff954b11-5413-48b5-a580-aaa499cf67dd"
      },
      "source": [
        "#an example of how the tfidf works\n",
        "vectorizer = TfidfVectorizer()\n",
        "X = vectorizer.fit_transform(df['sentences'])\n",
        "print(vectorizer.get_feature_names())\n",
        "print(X.shape)\n",
        "dict(zip(vectorizer.get_feature_names(), X.toarray()[0]))\n",
        "#this dict gives us the words with their scores"
      ],
      "execution_count": 28,
      "outputs": [
        {
          "output_type": "stream",
          "text": [
            "['072318', '10', '100', '1000', '100x', '1010', '1030pm', '11', '1100sf', '1220', '129', '12am', '15', '150', '19', '1964', '1990', '1990s', '1gb', '1rst', '1st', '20', '200', '2000', '2017', '2030', '229', '23', '2448', '247', '24ghz', '25', '29', '299', '2999', '2nd', '2or', '2original', '2package', '30', '300', '30so', '334', '34', '342nd', '3434', '34a34', '34alexa', '34alexa34', '34card34', '34certified', '34computer34', '34cycle', '34cycle34', '34dot34', '34drop', '34first', '34fixes34', '34fun34', '34group34', '34hear34', '34hmm', '34hmmm', '34hub', '34i', '34im', '34it34', '34late', '34learn', '34light34', '34lights34', '34listen34', '34minor', '34never', '34outlet34', '34personal34', '34philips', '34play', '34second', '34she34', '34show', '34skills34', '34smart', '34smart34', '34sorry', '34spying34', '34tell', '34the', '34thick34', '34things', '34this', '34thongs', '34trouble', '34try', '34turn', '34visual34', '34wake34me', '34warehouse34', '34whats', '35', '360', '39', '399', '3999', '3dots', '3rd', '3xs', '40000', '45', '48', '4am', '4k', '4th', '50', '54', '5am', '5ghz', '5th', '600', '62', '672', '6th', '70', '7000', '75', '7900', '80', '81', '83', '85', '88', '888', '8gb', '90', '91', '911', '99', 'a1', 'a19', 'abay', 'abc', 'abd', 'ability', 'able', 'abode', 'absolutely', 'absolutly', 'ac', 'accent', 'accentthe', 'acceptable', 'accepting', 'access', 'accessable', 'accessible', 'accessing', 'accessneeds', 'accessory', 'accessto', 'accident', 'accidentally', 'accompanying', 'accomplish', 'accomplished', 'according', 'accordingly', 'account', 'accuracy', 'accurate', 'accurately', 'accustom', 'acknowledge', 'acoustical', 'across', 'act', 'acting', 'action', 'activate', 'activated', 'activates', 'activating', 'activation', 'actively', 'activity', 'actually', 'ad', 'adapted', 'adapter', 'adapting', 'add', 'added', 'addict', 'addicted', 'adding', 'addition', 'additional', 'additionally', 'addons', 'address', 'addressed', 'adept', 'adequate', 'adjacent', 'adjust', 'adjusting', 'adjustment', 'adjusts', 'admit', 'adopters34', 'adorable', 'adult', 'advance', 'advanced', 'advantage', 'advertise', 'advertised', 'advertisement', 'advertising', 'advice', 'advise', 'advised', 'aesthetic', 'af', 'affirmation', 'affirmcom', 'afford', 'affordable', 'afraid', 'afternoon', 'afterwards', 'againi', 'againthis', 'age', 'agent', 'ago', 'agoyesterday', 'agree', 'agreement', 'ahead', 'ai', 'aide', 'aint', 'air', 'aka', 'al', 'alabama', 'alarm', 'alarmbed', 'alarmcom', 'alarmthis', 'albeit', 'alcohol', 'alert', 'alex', 'alexa', 'alexa34', 'alexaalso', 'alexaechocomputer', 'alexas', 'alexathis', 'alexi', 'alexia', 'alexis', 'alexus', 'algo', 'alive', 'alleviate', 'alli', 'allinone', 'alloverall', 'allow', 'allowed', 'allowing', 'allows', 'allrecipes', 'almost', 'alone', 'along', 'alongside', 'alot', 'alots', 'aloud', 'alread', 'already', 'alright', 'also', 'altering', 'alternative', 'although', 'always', 'amaonmazing', 'amaxing', 'amaze', 'amazed', 'amazin', 'amazing', 'amazingly', 'amazon', 'amazonalexa', 'amazonia', 'amazonmark', 'amazons', 'amazont', 'amazonzigbee', 'ambient', 'american', 'among', 'amount', 'amozon', 'amplifier', 'amused', 'amusing', 'analog', 'android', 'ands', 'angle', 'annoying', 'another', 'answer', 'answered', 'answering', 'ant', 'anticipate', 'anticipated', 'antitechnology', 'anybody', 'anyhow', 'anylist', 'anymore', 'anyone', 'anypod', 'anything', 'anythingi', 'anytime', 'anyway', 'anyways', 'anywhere', 'apartment', 'app', 'app34', 'apparent', 'apparently', 'apparentlylong', 'appealing', 'appear', 'appears', 'apple', 'appliance', 'application', 'appointment', 'appointmentsi', 'appon', 'appreciated', 'apprehensive', 'approaching', 'appropriate', 'approximately', 'apps', 'area', 'arent', 'argue', 'argument', 'arises', 'arlo', 'arm', 'around', 'aroundno', 'array', 'arrive', 'arrived', 'arriving', 'article', 'artist', 'artistbut', 'as', 'asap', 'ase', 'ask', 'asked', 'askes', 'asking', 'askmy', 'asleep', 'aspect', 'aspectsa', 'assigned', 'assist', 'assistance', 'assistant', 'assume', 'assumed', 'assuming', 'assumption', 'atención', 'atmosphere', 'atrás', 'attach', 'attached', 'attachment', 'attempt', 'attempted', 'attempting', 'attention', 'attractive', 'audible', 'audiblei', 'audio', 'audioapple', 'audiobook', 'audiobooks', 'audiophile', 'august', 'aunt', 'auto', 'automatic', 'automatically', 'automation', 'aux', 'auxiliary', 'av', 'avail', 'availability', 'available', 'avoid', 'awake', 'aware', 'away', 'awesome', 'awesomeunderstands', 'awesomeyou', 'awful', 'awhile', 'awkward', 'awsome', 'baby', 'back', 'background', 'backthe', 'backyard', 'bad', 'baffle', 'baffled', 'ball', 'ban', 'band', 'bandwagon', 'bandwidth', 'bang', 'bar', 'bare', 'barely', 'bargain', 'bark', 'barn', 'barrets', 'barry', 'base', 'baseball', 'based', 'basement', 'basic', 'basically', 'bass', 'bathroom', 'batman', 'battery', 'bc', 'beam', 'beat', 'beautiful', 'beautifully', 'beauty', 'became', 'becausse', 'become', 'becomes', 'becoming', 'bed', 'bedmany', 'bedroom', 'bedside', 'bedtime', 'beefy', 'begin', 'beginner', 'beginning', 'begun', 'behaved', 'behind', 'believe', 'believer', 'bell', 'belong', 'benefit', 'beside', 'besides', 'best', 'bestand', 'bet', 'beta', 'better', 'betterbesides', 'bettter', 'beyond', 'bezel', 'bezos', 'bf', 'bff', 'bible', 'big', 'bigger', 'biggest', 'bill', 'billboard', 'bing', 'birth', 'birthday', 'birthdayonly', 'bit', 'bizarre', 'black', 'blanket', 'blast', 'blasting', 'blessing', 'blind', 'blink', 'blocking', 'blood', 'bloomberg', 'blow', 'blown', 'blue', 'blueprint', 'bluetooth', 'blurring', 'board', 'boat', 'bob', 'body', 'bolt', 'bonkers', 'bonus', 'book', 'booksthe', 'boom', 'boombox', 'booming', 'boost', 'boring', 'born', 'bos', 'bose', 'bot', 'bother', 'bothered', 'bothersome', 'bottom', 'bough', 'bought', 'box', 'boyfriend', 'brand', 'brandnew', 'brandunlimited', 'bread', 'break', 'breakfast', 'breeze', 'bridge', 'brief', 'briefing', 'bright', 'brightness', 'bring', 'bringing', 'british', 'broadway', 'broke', 'broken', 'brought', 'bt', 'buck', 'buddy', 'budget', 'buffer', 'buffering', 'buffet', 'bug', 'bugging', 'buildin', 'building', 'built', 'builtin', 'bulb', 'bulbswhat', 'buld', 'bulky', 'bummed', 'bunch', 'bundle', 'bundled', 'burn', 'business', 'busy', 'butnot', 'butomg', 'buts', 'button', 'buttons3', 'buy', 'buyer', 'buyi', 'buying', 'buywe', 'buzzing', 'bye', 'cable', 'calendar', 'call', 'called', 'calling', 'calm', 'calmer', 'cam', 'cambiar', 'came', 'camelot', 'camera', 'camera34', 'campus', 'canary', 'cancel', 'canceling', 'cancelled', 'cant', 'capabilitiesbut', 'capability', 'capable', 'capacity', 'capasity', 'car', 'card', 'cardsrotate', 'care', 'carefully', 'careless', 'carful', 'carolina', 'carrier', 'carry', 'cart', 'cartoon', 'case', 'cat', 'catch', 'category', 'cause', 'caused', 'cave', 'cbs', 'cd', 'cdalarm', 'cease', 'ceiling', 'ceilingscons', 'celebs', 'cell', 'cellphone', 'cent', 'center', 'certain', 'certainly', 'certified', 'chachki', 'chair', 'chairlaziness', 'chalk', 'challenge', 'challenged', 'champ', 'chance', 'change', 'changed', 'changer', 'changing', 'channel', 'channelsmust', 'characteristic', 'charge', 'chargeable', 'charger', 'charging', 'charlotte', 'charm', 'charmed', 'chart', 'chat', 'chatting', 'cheap', 'cheaper', 'cheapest', 'check', 'checked', 'checking', 'child', 'childhood', 'chocolate', 'choice', 'choose', 'choosing', 'choppy', 'chore', 'chose', 'chosen', 'christmas', 'chromebook', 'chromecast', 'circle', 'citizen', 'city', 'clapper', 'clarity', 'class', 'classic', 'classical', 'classroom', 'clean', 'cleaner', 'cleaning', 'clear', 'clearalexa', 'clearer', 'clearfor', 'clearly', 'click', 'client', 'clip', 'clock', 'clockalarmradio', 'clockhome', 'clocking', 'clockradio', 'clone', 'close', 'closed', 'closer', 'clothes', 'cloud', 'clue', 'cnn', 'coast', 'code', 'coffeeetc', 'cohesive', 'collection', 'collector', 'college', 'colon', 'color', 'comands', 'combination', 'combine', 'combined', 'come', 'comeletely', 'comfort', 'comfortable', 'comforting', 'coming', 'command', 'commandbut', 'commanded', 'commandsim', 'comment', 'commercial', 'commodity', 'common', 'communicate', 'communicated', 'communicating', 'communication', 'community', 'commute', 'commuteif', 'como', 'compacity', 'compact', 'companion', 'company', 'comparable', 'compare', 'compared', 'compatible', 'competition', 'complacatedi', 'complain', 'complained', 'complaini', 'complaining', 'complaint', 'complaintno', 'complete', 'completed', 'completely', 'complicated', 'compliment', 'component', 'compound', 'computer', 'con', 'concept', 'concern', 'concerned', 'concerning', 'concise', 'condition', 'conditioning', 'conectado', 'conferencing', 'confident', 'configure', 'configured', 'conflict', 'confused', 'confuses', 'confusing', 'confusioni', 'connect', 'connected', 'connectedwell', 'connecting', 'connectingcheck', 'connection', 'connectivity', 'connectivityit', 'connects', 'conscious', 'consider', 'considering', 'consistent', 'consistently', 'conspiracy', 'constant', 'constantly', 'constructed', 'consulting', 'consumer', 'contact', 'contacted', 'contains', 'content', 'continous', 'continually', 'continue', 'continues', 'continuous', 'continuously', 'continuously34', 'control', 'controll', 'controlled', 'controller', 'controlling', 'convenience', 'convenient', 'conversation', 'convert', 'convinced', 'cook', 'cooking', 'cool', 'coolbonus', 'cooler', 'coolest', 'coop', 'coordinator', 'cord', 'cordless', 'cordthank', 'core', 'correct', 'corrected', 'correctly', 'corresponds', 'cortna', 'cost', 'cotton', 'couch', 'could', 'couldnt', 'counter', 'countless', 'country', 'county', 'couple', 'course', 'coursealexa', 'cousin', 'cover', 'covered', 'coworker', 'cozi', 'cpr', 'cracked', 'crackling', 'crap', 'crappy', 'crash', 'crashed', 'crashing', 'crazy', 'creapy', 'create', 'created', 'credited', 'creepy', 'crib', 'crisp', 'critically', 'cropping', 'cross', 'crunchyroll', 'csimiamiwithout', 'cualquier', 'cue', 'cumbersome', 'cup', 'current', 'currently', 'cursed', 'curve', 'custom', 'customer', 'customizable', 'customization', 'customize', 'cut', 'cute', 'cutie', 'cutting', 'cycle', 'cycled', 'cylinder', 'cylindercal', 'dad', 'daily', 'damage', 'dance', 'dancing', 'dare', 'dark', 'darn', 'dash', 'data', 'date', 'dated', 'daughter', 'day', 'day34', 'daytoday', 'dayused', 'de', 'deactivate', 'dead', 'deaf', 'deal', 'dealset', 'debating', 'dec', 'decent', 'decide', 'decided', 'decides', 'decision', 'deck', 'decor', 'decorated', 'decrease', 'dedicated', 'deep', 'deeper', 'default', 'defaultkaren', 'defeat', 'defective', 'defectivethis', 'defence', 'defently', 'definately', 'define', 'definitely', 'definition', 'definitively', 'defuseri', 'degree', 'del', 'delay', 'delete', 'deliver', 'delivered', 'delivers', 'delivery', 'deliveryoverall', 'demand', 'dementia', 'den', 'denon', 'dense', 'dented', 'department', 'dependable', 'dependence', 'depending', 'deployed', 'depreciates', 'depth', 'described', 'description', 'design', 'designed', 'designer', 'desired', 'desk', 'despite', 'detail', 'detailed', 'detect', 'determined', 'developed', 'developer', 'development', 'device', 'device34', 'devicei', 'deviceoverall', 'deviceright', 'devices34', 'devicesplus', 'devise', 'dhiw', 'diagnostics', 'dial', 'dictionary', 'didnt', 'didshe', 'died', 'differ', 'difference', 'different', 'differentiate', 'differentthe', 'difficult', 'difficulty', 'dig', 'digital', 'digitol', 'dim', 'dimat', 'dimension', 'dimmer', 'dimming', 'dims', 'dining', 'dinner', 'dinneras', 'dinosaur', 'direct', 'direction', 'directly', 'directtv', 'directv', 'disability', 'disable', 'disabled', 'disagree', 'disappoint', 'disappointed', 'disappointing', 'disappointment', 'disarm', 'disaster', 'disconcerting', 'disconnect', 'disconnected', 'disconnecting', 'disconnection', 'discount', 'discourage', 'discover', 'discovered', 'discoveredthat', 'discovering', 'discovery', 'dish', 'dislike', 'dismiss', 'dismissed', 'display', 'displayed', 'displaying', 'disposable', 'dissatisfaction', 'distance', 'distorted', 'distracting', 'distraction', 'disturbing', 'ditch', 'ditched', 'diversity', 'divertido', 'dj', 'doalexa', 'docking', 'doctor', 'documentationinstructions', 'dodging', 'doesnt', 'dog', 'dollar', 'domain', 'don34', 'don34t', 'done', 'donr', 'dont', 'door', 'doorbell', 'doorbellyou', 'dorm', 'doside', 'dot', 'doubtful', 'downfall', 'download', 'downloaded', 'downloading', 'downright', 'downside', 'downstairs', 'downstairsso', 'downupdate', 'drag', 'draw', 'drawback', 'drawing', 'dressed', 'drive', 'driven', 'driver', 'driving', 'drop', 'dropin', 'dropped', 'dropping', 'dryer', 'due', 'dumb', 'dumber', 'dunce', 'dunno', 'dust', 'duty', 'dy', 'dying', 'dylan', 'ear', 'early', 'earn', 'ease', 'easier', 'easieri', 'easierthough', 'easily', 'east', 'easy', 'eavesdropping', 'echo', 'echoand', 'echodot', 'echoesi', 'echoloving', 'echonot', 'echoplus', 'echosecho', 'echostill', 'eco', 'ecobee3', 'ecoo', 'ecosystem', 'ed', 'edge', 'edit', 'educated', 'educational', 'eeaanh', 'effect', 'effected', 'effective', 'efficiency', 'efficient', 'effort', 'effortless', 'eg', 'eh', 'either', 'el', 'elderly', 'electeonically', 'electrician', 'electricity', 'electronic', 'electronically', 'electronics', 'elegant', 'element', 'eliminate', 'else', 'elsei', 'elsewhere', 'em', 'email', 'embarrassed', 'emergency', 'emoji', 'employee', 'en', 'enable', 'enabled', 'enables', 'encyclopedia', 'end', 'ended', 'endless', 'engage', 'engagement', 'engaging', 'engine', 'engineer', 'english', 'enhanced', 'enjoy', 'enjoyable', 'enjoyed', 'enjoying', 'enjoyment', 'enjoys', 'enough', 'enrolment', 'enter', 'entering', 'enters', 'entertained', 'entertaining', 'entertainment', 'entire', 'entirely', 'entry', 'eq', 'equal', 'equalizer', 'equipment', 'equipo', 'error', 'escencia', 'esp', 'espanol', 'español', 'especially', 'essential', 'essentially', 'esta', 'estar', 'este', 'estudio', 'estés', 'etc', 'etchighly', 'etcthe', 'etcuntil', 'etekcity', 'ethernet', 'evaluate', 'even', 'evening', 'event', 'eventually', 'ever', 'everfloating', 'every', 'everybody', 'everyday', 'everyone', 'everything', 'everythingi', 'everytime', 'everywhere', 'eveyday', 'evolve', 'evrything', 'ex', 'exact', 'exactly', 'example', 'examplesi', 'exasperationi', 'exceeded', 'exceeds', 'excelente', 'excellent', 'excellently', 'except', 'exception', 'exceptionally', 'excessive', 'exchange', 'exchangereturn', 'exchanging', 'excited', 'excitement', 'excuse', 'exho', 'existence', 'existent', 'existing', 'expanded', 'expanding', 'expect', 'expectation', 'expected', 'expectedalready', 'expecting', 'expensive', 'experience', 'experienced', 'expert', 'expired', 'expires', 'explanation', 'explicit', 'explore', 'explored', 'exploring', 'extend', 'extended', 'extender', 'extends', 'extension', 'extent', 'external', 'extra', 'extremely', 'extrimelly', 'eye', 'fabric', 'fabriccolor', 'fabulous', 'face', 'facebook', 'facetime', 'fact', 'factor', 'factory', 'fail', 'failed', 'failing', 'fails', 'fair', 'fairly', 'fairness', 'fall', 'falling', 'false', 'familiar', 'family', 'fan', 'fanatic', 'fanlove', 'fantastic', 'far', 'farstill', 'farther', 'fascinating', 'fashioned', 'fast', 'faster', 'fat', 'father', 'fault', 'faulty', 'favorite', 'featues', 'feature', 'featured', 'featurei', 'featurejust', 'featureshe', 'featuresservicessuch', 'fee', 'feed', 'feedback', 'feee', 'feel', 'feeling', 'fell', 'felt', 'fencing', 'fi', 'fiance', 'fidelity', 'figure', 'figured', 'figuring', 'fill', 'filled', 'final', 'finally', 'find', 'finding', 'fine', 'finebut', 'fingertip', 'finicky', 'finish', 'fios', 'fire', 'firestick', 'firmare', 'firmware', 'first', 'firstgen', 'fit', 'five', 'fix', 'fixed', 'fixedi', 'fixing', 'fixture', 'flash', 'flat', 'flaw', 'flawless', 'flawlessly', 'flexibility', 'flexible', 'flickering', 'floor', 'floored', 'fm', 'folk', 'follow', 'followed', 'font', 'foot', 'football', 'footprint', 'force', 'forecast', 'forever', 'forget', 'forgot', 'forgotten', 'forjust', 'form', 'forth', 'fortunately', 'forum', 'forward', 'found', 'four', 'fourth', 'free', 'freeze', 'frequently', 'fri', 'friday', 'friend', 'friendly', 'front', 'frustrated', 'frustrating', 'frustration', 'full', 'fuller', 'fullfledged', 'fullsize', 'fullsized', 'fully', 'fumble', 'fun', 'funciona', 'funcionamiento', 'funciones', 'function', 'functionality', 'functionevery', 'funit', 'funmusic', 'funny', 'funnybut', 'funsometimes', 'furthermore', 'fussing', 'fussy', 'future', 'fw', 'gadget', 'gadgetdrives', 'gain', 'galaxy', 'game', 'gameshowquiz', 'gaming', 'gap', 'garage', 'garbage', 'garbageeven', 'gateway', 'gather', 'gathering', 'gave', 'gazebo', 'gb', 'ge', 'geared', 'geek', 'gen', 'gen2', 'gen34', 'gender', 'general', 'generally', 'generation', 'generationthe', 'genial', 'genre', 'geo', 'geofencing', 'get', 'getting', 'gf', 'ghost', 'gift', 'girl', 'girlfriend', 'give', 'given', 'giving', 'gizmo', 'glad', 'glaring', 'glass', 'glitch', 'glitching', 'glorified', 'glow', 'go', 'god', 'godsend', 'going', 'golden', 'gone', 'goo', 'good', 'goodmorning', 'goodness', 'goodsincerely', 'goodsome', 'goody', 'google', 'googled', 'got', 'gotten', 'government', 'grab', 'grace', 'grand', 'grandaughter', 'grandchild', 'grandchildrenwho', 'granddaughter', 'grandfather', 'grandkids', 'grandmother', 'grandparent', 'grandson', 'granite', 'granted', 'graphic', 'gratamente', 'great', 'greater', 'greatest', 'greathaving', 'greati', 'greatit', 'greatly', 'greatproduct', 'greatthe', 'greatvideo', 'greatwith', 'green', 'greeting', 'grip', 'gripe', 'grocery', 'groggy', 'ground', 'group', 'growing', 'grownup', 'grows', 'guarantee', 'guaranteeing', 'guard', 'guess', 'guest', 'guide', 'guilty', 'guy', 'habit', 'habla', 'hadnt', 'haha', 'hahaawesome', 'hahahaha', 'hair', 'hal', 'half', 'hallway', 'hand', 'handle', 'handled', 'handsfree', 'handy', 'hang', 'happen', 'happened', 'happening', 'happens', 'happensthe', 'happier', 'happy', 'hard', 'hardcore', 'harder', 'hardly', 'harmony', 'harvard', 'hasnt', 'hassel', 'hassle', 'hate', 'hated', 'hauler', 'havelove', 'havent', 'havethe', 'haywire', 'hbo', 'hcfe', 'hd', 'hd8', 'hdm1', 'hdmi', 'he', 'head', 'headline', 'headphone', 'healing', 'hear', 'heard', 'hearing', 'hears', 'heart', 'heaven', 'heavy', 'heavyso', 'heck', 'hectic', 'held', 'helful', 'hell', 'help', 'helped', 'helper', 'helpful', 'helping', 'helpusing', 'hence', 'herit', 'hernot', 'hesitant', 'hesitate', 'hesitated', 'hey', 'hi', 'hiccup', 'hide', 'high', 'higher', 'highest', 'highly', 'hint', 'hire', 'hired', 'hiring', 'history', 'hit', 'hmm', 'hmmmm', 'hold', 'holder', 'holding', 'hole', 'holiday', 'holy', 'home', 'homei', 'homescreen', 'homewhat', 'homework', 'honest', 'honestly', 'hong', 'hook', 'hooked', 'hope', 'hoped', 'hopefully', 'hoping', 'horrible', 'horse', 'hospital', 'hosting', 'hot', 'hotel', 'hour', 'house', 'housedo', 'household', 'housethe', 'however', 'hr', 'httpswwwamazoncomdpb073sqyxtwrefcmcrrypprdttlsol18', 'hub', 'hubbed', 'hubby', 'hubsthe', 'hue', 'huele', 'huge', 'hulu', 'human', 'humour', 'hundred', 'husband', 'hut', 'hvac', 'hype', 'id', 'idea', 'ideal', 'ie', 'ifs', 'ight', 'ignored', 'ignoring', 'iheart', 'iheartradio', 'ihome', 'ii', 'ill', 'illustrated', 'im', 'image', 'imagination', 'imagine', 'imagined', 'imhave', 'immediately', 'impaired', 'impede', 'imperfection', 'implementing', 'important', 'importantly', 'impressed', 'impressive', 'improve', 'improved', 'improvement', 'improving', 'impulse', 'imrproved', 'imusic', 'in34', 'inability', 'inactivity', 'include', 'included', 'included34', 'includedplease', 'includes', 'including', 'inclusive', 'income', 'inconvenience', 'inconvenient', 'incorporated', 'increase', 'increasing', 'incredible', 'incredibly', 'india', 'indicated', 'indicator', 'indispensable', 'individual', 'individually', 'indoor', 'indundated', 'industry', 'inexpensive', 'inexperience', 'infact', 'inferior', 'info', 'infodot', 'information', 'informative', 'informed', 'infotainment', 'initial', 'initially', 'initiate', 'inline', 'innovative', 'input', 'insanely', 'insanity', 'insert', 'inside', 'insist', 'inspired', 'install', 'installation', 'installed', 'installing', 'installs', 'instant', 'instantaneous', 'instantly', 'instead', 'instruction', 'integrate', 'integrated', 'integrates', 'integrating', 'integration', 'intelagence', 'inteligente', 'intelligent', 'intend', 'intended', 'intendedi', 'intention', 'interact', 'interacting', 'interaction', 'interactive', 'intercom', 'interest', 'interested', 'interesting', 'interface', 'interfacing', 'interference', 'interferes', 'intermittent', 'intermittently', 'internal', 'international', 'internet', 'interpret', 'interrogated', 'interrupt', 'interruption', 'intimidating', 'introduce', 'introducing', 'introduction', 'intrusive', 'intuitive', 'invasion', 'invasive', 'invention', 'invest', 'invested', 'investing', 'investment', 'inviting', 'involved', 'involves', 'iot', 'iove', 'ipad', 'ipads', 'ipdates', 'iphone', 'irritated', 'irritating', 'ise', 'ish', 'island', 'isnt', 'iso', 'isolated', 'issue', 'issueover', 'issuesfirst', 'issuesworks', 'isue', 'it', 'it34', 'ita', 'italian', 'italy', 'itd', 'item', 'itiswhat', 'itjust', 'itll', 'itselfi', 'itshe', 'itso', 'itsuch', 'itthe', 'itthis', 'itunes', 'itwhat', 'ityou', 'ive', 'iy', 'jack', 'jacuzzi', 'jam', 'jamming', 'jaw', 'jazz', 'jeapordy', 'jeff', 'jeopardy', 'jetsons', 'jimmy', 'job', 'johnny', 'join', 'joke', 'joke34', 'joked', 'journey', 'joy', 'jump', 'jumped', 'jumping', 'june', 'junkthey', 'kasa', 'kasacam', 'keen', 'keep', 'keeper', 'keeping', 'kept', 'key', 'keyboard', 'kick', 'kicking', 'kid', 'kidfriendly', 'killer', 'kind', 'kinda', 'kindle', 'king', 'kitchen', 'kitchenden', 'kitchenliving', 'knee', 'knew', 'knob', 'knock', 'knocked', 'know', 'knowing', 'knowledgable', 'knowledge', 'knowledgeable', 'known', 'kodi', 'kong', 'korea', 'kwikset', 'la', 'labeled', 'lack', 'lacking', 'lady', 'lag', 'lagging', 'lame', 'lamp', 'land', 'language', 'lapsed', 'laptop', 'laptopdesktop', 'large', 'larger', 'last', 'lastly', 'late', 'lately', 'later', 'lauded', 'laugh', 'laundry', 'law', 'layer', 'laying', 'lazy', 'lcd', 'le', 'leaf', 'leaning', 'learn', 'learned', 'learnimg', 'learning', 'learns', 'leary', 'least', 'leave', 'leaving', 'led', 'left', 'leg', 'legally', 'leisure', 'length', 'lesson', 'let', 'level', 'levelsall', 'library', 'life', 'lifechanging', 'lifetime', 'lifht', 'light', 'light34', 'light34i', 'lightbulb', 'lightening', 'lighting', 'lightning', 'lights34', 'lights34as', 'lightswithout', 'like', 'liked', 'likely', 'liking', 'lil', 'lilttle', 'limitation', 'limited', 'line', 'link', 'linked', 'linking', 'linksplug', 'list', 'listen', 'listened', 'listening', 'listens', 'lit', 'literally', 'literate', 'little', 'live', 'lived', 'living', 'livingroom', 'llama', 'llegó', 'lm', 'lo', 'load', 'loaded', 'local', 'locate', 'located', 'location', 'lock', 'locked', 'logitech', 'logo', 'logra', 'lol', 'loli', 'lolol', 'lonely', 'long', 'longer', 'longevity', 'look', 'looked', 'looking', 'looooooove', 'loos', 'loose', 'loosing', 'lose', 'loses', 'losing', 'loss', 'lost', 'lot', 'lotsi', 'loud', 'louder', 'louis', 'lov', 'love', 'loved', 'lovee', 'lover', 'loving', 'low', 'lower', 'luck', 'luckily', 'lucky', 'lullaby', 'lurking', 'luv', 'lve', 'lyric', 'lyrical', 'mac', 'machine', 'maddening', 'made', 'madlibs', 'magically', 'mailed', 'main', 'mainly', 'mainstream', 'maintain', 'maintaining', 'majel', 'majes', 'major', 'majorthe', 'make', 'making', 'male', 'malone', 'mama', 'man', 'manage', 'management', 'mandatory', 'maneuver', 'manner', 'manual', 'manually', 'manufacturer', 'manufacturerslg', 'many', 'marginal', 'mark', 'marked', 'market', 'marketing', 'marvelous', 'massive', 'match', 'matched', 'material', 'matter', 'maximize', 'may', 'maybe', 'mb', 'mean', 'meaningful', 'meant', 'mecons', 'medical', 'medication', 'mediocre', 'meditation', 'medium', 'medo', 'meh', 'mei', 'mejust', 'member', 'membership', 'memory', 'mention', 'mentioned', 'menu', 'meotherwise', 'mere', 'message', 'messaging', 'messed', 'met', 'metro', 'mexico', 'mi', 'mic', 'microphone', 'microphone34', 'mics', 'mid', 'middle', 'mids', 'might', 'mile', 'million', 'mimic', 'min', 'mind', 'mindset', 'mine', 'mini', 'minimal', 'minimum', 'minipros', 'minor', 'minorly', 'mint', 'minute', 'mirroring', 'misled', 'misplace', 'miss', 'missed', 'missing', 'mistake', 'misunderstands', 'mixed', 'moana', 'mobile', 'mobility', 'mode', 'model', 'modern', 'mom', 'moment', 'money', 'monitor', 'month', 'monthly', 'monthsthey', 'monthu', 'mood', 'morning', 'mostly', 'mother', 'mothershe', 'motivation', 'motown', 'mount', 'mounted', 'move', 'moved', 'movie', 'moving', 'mu', 'much', 'muffled', 'multi', 'multiple', 'music', 'music34', 'musicchecking', 'musici', 'musiclaughter', 'musicloveit', 'musicprime', 'musicrelated', 'musicthe', 'must', 'musthave', 'mute', 'muy', 'mybedroom', 'myselfi', 'múltiples', 'na', 'name', 'named', 'nana', 'nanny', 'native', 'natural', 'nature', 'navigate', 'navigating', 'navigation', 'naw', 'nbc', 'nc', 'nd', 'ne', 'near', 'nearly', 'neat', 'necessity', 'need', 'needed', 'needing', 'needna', 'negative', 'negativei', 'neighbor', 'neither', 'nephew', 'nervana', 'nervous', 'nest', 'net', 'netflix', 'network', 'networktechnology', 'never', 'new', 'newer', 'newest', 'newno', 'news', 'newsflash', 'newsits', 'nexia', 'next', 'nfl', 'ni', 'nice', 'niceclear', 'nicely', 'niceneeds', 'nicer', 'niece', 'nigh', 'night', 'nightmare', 'nightstand', 'nil', 'nit', 'nite', 'no', 'nobody', 'nobrainer', 'nois', 'noise', 'non', 'none', 'nonschool', 'nonsense', 'nonstop', 'nope', 'norm', 'normal', 'north', 'note', 'nothing', 'noti', 'notice', 'noticeable', 'noticed', 'notification', 'notifies', 'novelty', 'nowhere', 'nowi', 'npr', 'nrw', 'nsa', 'nudged', 'numb', 'number', 'numerous', 'nurse', 'nut', 'ny', 'nynj', 'obsessed', 'obtrusive', 'obvious', 'occasion', 'occasional', 'occasionally', 'ocean', 'odd', 'odds', 'offer', 'offered', 'office', 'officeit', 'officially', 'offing', 'ofi', 'often', 'oh', 'ok', 'okay', 'old', 'older', 'oldest', 'olor', 'omg', 'once34', 'onceproblem', 'one', 'one2', 'onehonestly', 'oneit', 'onetill', 'onetime', 'online', 'onme', 'onoff', 'onto', 'ontraclike', 'ony', 'oops', 'open', 'opened', 'opening', 'opera', 'operate', 'operation', 'operator', 'opinion', 'opportunity', 'opt', 'optical', 'optimum', 'option', 'optional', 'optionmoreover', 'orange', 'orchestra', 'order', 'ordered', 'ordering', 'organization', 'organized', 'orientation', 'oriented', 'original', 'originale', 'originally', 'others', 'otherwise', 'outdoor', 'outdoors', 'outlet', 'output', 'outrageous', 'outside', 'outsidethis', 'outsmart', 'outstanding', 'oven', 'overa', 'overall', 'overcoming', 'overdriven', 'overheating', 'overpriced', 'override', 'overthis', 'overtime', 'overview', 'overwhelming', 'owe', 'owlhead', 'owned', 'owner', 'ownershipi', 'owning', 'package', 'packaged', 'packageperhaps', 'packaging', 'packing', 'page', 'pagei', 'pagesthe', 'paid', 'pain', 'pair', 'paired', 'pairing', 'pamphlet', 'pandora', 'pant', 'paper', 'par', 'paranoid', 'pare', 'parent', 'parentseasy', 'park', 'paroduct', 'part', 'participating', 'particular', 'particularly', 'partner', 'party', 'pas', 'password', 'past', 'patch', 'patience', 'patient', 'patio', 'pattern', 'pause', 'pay', 'payed', 'paying', 'pc', 'películas', 'pen', 'pencil', 'penny', 'people', 'pep', 'per', 'perdió', 'perfect', 'perfecti', 'perfectly', 'perfectlyvery', 'perfecto', 'perform', 'performance', 'performed', 'performing', 'performs', 'perhaps', 'period', 'perk', 'permanently', 'persist', 'person', 'personal', 'personality', 'personalization', 'personalized', 'personally', 'persuasion', 'pet', 'phase', 'phenomenal', 'philip', 'philipshue', 'phillips', 'philly', 'phone', 'phoneand', 'phonetically', 'photo', 'photograph', 'phrase', 'pia', 'pic', 'pick', 'picked', 'picking', 'pickup', 'picky', 'picture', 'piece', 'pin', 'pivoting', 'pixelated', 'pizza', 'place', 'placed', 'placement', 'placing', 'plain', 'plan', 'plane', 'planning', 'platform', 'play', 'played', 'player', 'playing', 'playingi', 'playlist', 'playlisti', 'playlistswhats', 'pleasantly', 'please', 'pleased', 'pleasedsimple', 'pleasure', 'plenty', 'plug', 'plugged', 'plughas', 'plugin', 'plugins', 'plus', 'plusminus', 'plusprimeetc', 'pluto', 'pod', 'podcast', 'podcasts', 'point', 'point34', 'pointed', 'pointless', 'pointlessi', 'politics', 'pool', 'poop', 'poor', 'pop', 'porch', 'porchthe', 'port', 'portability', 'portable', 'portion', 'posed', 'position', 'positive', 'possibility', 'possible', 'possibly', 'post', 'poster', 'potential', 'pound', 'power', 'powercord', 'powerful', 'practical', 'practically', 'practicalthan', 'pray', 'preciously', 'precise', 'prefer', 'preference', 'preferred', 'preinstalled', 'premium', 'prepare', 'preparing', 'present', 'preset', 'press', 'presumably', 'prettier', 'pretty', 'prevent', 'prevents', 'preview', 'previous', 'previously', 'price', 'priced', 'pricey', 'pricing', 'primarily', 'primary', 'prime', 'primeday', 'print', 'prior', 'privacy', 'prize', 'pro', 'probably', 'problem', 'problemi', 'procedure', 'process', 'produc', 'product', 'productbut', 'productecho', 'producto', 'productonce', 'productsand', 'productsuggested', 'productthere', 'productwas', 'profile', 'program', 'programing', 'programmed', 'programming', 'project', 'projection', 'promised', 'promoting', 'promotion', 'promotionand', 'promp', 'prompt', 'prop', 'proper', 'properly', 'properlyno', 'protected', 'protection', 'protocol', 'prove', 'proved', 'provee', 'provide', 'provided', 'provider', 'provides', 'providing', 'psychological', 'pueden', 'pull', 'pulling', 'pulsate', 'pulsed', 'punch', 'puny', 'pup', 'pur', 'purchase', 'purchased', 'purchaser', 'purchasesi', 'purchasing', 'pure', 'purely', 'purpose', 'push', 'pushed', 'put', 'putting', 'puzzled', 'quality', 'qualty', 'que', 'quedó', 'query', 'question', 'questionable', 'questionshands', 'questionsit', 'questionsneed', 'quick', 'quicker', 'quickly', 'quiet', 'quit', 'quite', 'quiz', 'quote', 'quotnotificationquot', 'qvc', 'radio', 'radioalarmit', 'rain', 'rainand', 'rainbow', 'rainsoaked', 'raised', 'rambled', 'ran', 'random', 'randomly', 'range', 'ranger', 'rapidez', 'rare', 'rarely', 'rarity', 'rate', 'rather', 'rating', 'rattlecrackle', 'rattling', 'rcieved', 'reach', 'reached', 'reaching', 'reactive', 'read', 'reader', 'reading', 'readingglasses', 'ready', 'real', 'realizando', 'realize', 'realized', 'realizing', 'really', 'reason', 'reasonable', 'reauthorize', 'reboot', 'rebooted', 'rebooting', 'reboots', 'reccomend', 'receivded', 'receive', 'received', 'receiver', 'receiving', 'recent', 'recently', 'reception', 'rechargeable', 'recharged', 'recipe', 'recipient', 'recognition', 'recognize', 'recognizes', 'recomendable', 'recommend', 'recommended', 'recommending', 'reconditioned', 'reconnect', 'reconnected', 'reconnecting', 'record', 'recorded', 'recording', 'recurring', 'red', 'reduced', 'redundant', 'refer', 'reference', 'referred', 'refers', 'refined', 'refund', 'refurb', 'refurbish', 'refurbished', 'refurbishedthought', 'refurbishing', 'refurbs', 'regard', 'regardless', 'regional', 'register', 'registered', 'regret', 'regular', 'regularly', 'related', 'relatively', 'relaxing', 'relay', 'release', 'released', 'reliable', 'relief', 'rely', 'remaining', 'remains', 'remedial', 'remember', 'rememberi', 'remembering', 'remind', 'reminded', 'reminder', 'reminding', 'reminds', 'remorse', 'remote', 'remoteno', 'rename', 'rent', 'renting', 'reoccurring', 'reorder', 'rep', 'repair', 'repeat', 'repeated', 'repeating', 'repertoire', 'replace', 'replaced', 'replacement', 'replaces', 'replacing', 'replied', 'replying', 'report', 'reported', 'reportsalarm', 'reputation', 'request', 'requesting', 'require', 'required', 'requires', 'rerecordings', 'research', 'researched', 'researching', 'resembling', 'resemption', 'reset', 'resetting', 'resist', 'resistant', 'resolution', 'resolve', 'resolved', 'respond', 'responding', 'responding34', 'responds', 'response', 'responsive', 'responsivealexa', 'responsivecan', 'responsiveness', 'respuesta', 'rest', 'restart', 'restriction', 'restrictive', 'result', 'resultsthe', 'resume', 'retired', 'return', 'returned', 'returnef', 'returning', 'review', 'reviewing', 'revise', 'reward', 'rid', 'ride', 'ridiculous', 'ridiculously', 'right', 'ring', 'riversa', 'road', 'rock', 'roku', 'roll', 'room', 'roomba', 'roomfilling', 'roomkitchen', 'roomother', 'roomyou', 'rotate', 'rotates', 'rotation', 'rotationsswipe', 'rough', 'round', 'route', 'router', 'routine', 'routinely', 'row', 'rub', 'rubber', 'run', 'running', 's8', 's9', 'sad', 'sadly', 'safe', 'said', 'sale', 'salsa', 'samsung', 'samsunggalaxy', 'sang', 'sanity', 'satellite', 'satisfied', 'satisified', 'save', 'saved', 'saving', 'savvy', 'savy', 'saw', 'say', 'saying', 'saysbut', 'scared', 'scene', 'scent', 'schedule', 'scheduled', 'scheduling', 'school', 'schoolthe', 'science', 'scooped', 'score', 'scottish', 'scoured', 'scratch', 'scratched', 'screamig', 'screaming', 'screen', 'screen34', 'screenless', 'screenmaybe', 'screensanother', 'screenselect', 'screw', 'script', 'scroll', 'scrolling', 'se', 'sealed', 'seam', 'seamless', 'seamlessly', 'seamlessnot', 'search', 'searching', 'season', 'second', 'secret', 'secretary', 'section', 'security', 'see', 'seeing', 'seem', 'seemed', 'seems', 'seen', 'seldom', 'select', 'selection', 'self', 'selfies', 'sell', 'selling', 'semana', 'semi', 'send', 'sending', 'sends', 'senior', 'sense', 'sensitive', 'sensitivity', 'sent', 'sentence', 'separate', 'separately', 'seprately', 'series', 'serious', 'seriously', 'serius', 'serve', 'served', 'service', 'servicescant', 'set', 'setting', 'settingshome', 'settins', 'settle', 'setup', 'sever', 'several', 'sewing', 'shaking', 'shape', 'sharing', 'sharp', 'shell', 'shelled', 'shes', 'shifting', 'shine', 'shining', 'ship', 'shipment', 'shipped', 'shipping', 'shippingthank', 'shocked', 'shooting', 'shop', 'shopping', 'shoppingto', 'short', 'shortcoming', 'shorted', 'shorter', 'shortly', 'shouldnt', 'shout', 'show', 'shower', 'showering', 'showi', 'showing', 'showman', 'shown', 'showno', 'showsit', 'showtime', 'sht', 'shuffle', 'shut', 'shuts', 'shutting', 'sibling', 'side', 'sigh', 'sight', 'sign', 'significant', 'silly', 'silver', 'similar', 'simple', 'simpler', 'simplicity', 'simplified', 'simplify', 'simply', 'simultaneously', 'sin', 'since', 'sing', 'singing', 'single', 'singley', 'sink', 'sinqued', 'siri', 'sirius', 'sirriusxm', 'sister', 'sit', 'site', 'sits', 'sitting', 'situation', 'six', 'size', 'sized', 'sizemy', 'skeptical', 'skill', 'skillsjust', 'skip', 'skype', 'sleek', 'sleep', 'sleeper', 'sleeping', 'sleepy', 'sliced', 'slide', 'slideshow', 'slight', 'slightly', 'sling', 'slow', 'slowly', 'sm', 'small', 'smaller', 'smart', 'smartbon', 'smarter', 'smarthome', 'smartphone', 'smartthing', 'smartthings', 'smell', 'smith', 'smooth', 'smoothly', 'snap', 'snarl', 'sneaky', 'snell', 'snooze', 'snoozed', 'soaking', 'soccer', 'social', 'socket', 'sofa', 'soft', 'softly', 'software', 'sold', 'solely', 'solid', 'solo', 'solución', 'solution', 'solved', 'solves', 'somebody', 'somehow', 'someone', 'something', 'sometime', 'sometimes', 'somewhat', 'son', 'song', 'songs34', 'songsnot', 'soninlaw', 'sonos', 'sony', 'soon', 'sooner', 'sooo', 'sooooo', 'sooooooo', 'sopt', 'sorely', 'sorprendió', 'sorry', 'sort', 'sortof', 'soso', 'sound', 'soundbar', 'sounded', 'soundgood', 'soundi', 'sounding', 'soundit', 'soundlink', 'soundtouch', 'soundwhat', 'source', 'southern', 'spa', 'space', 'spacethe', 'spacing', 'spam', 'span', 'spanish', 'spanishi', 'spanking', 'spark', 'speak', 'speaker', 'speakeri', 'speakerstereo', 'speaking', 'speaknspell', 'speaks', 'speaktakes', 'spec', 'special', 'specially', 'specific', 'specifically', 'specifily', 'specify', 'specifying', 'spectacular', 'speech', 'speed', 'speedy', 'spell', 'spelling', 'spend', 'spending', 'spent', 'spieli', 'spilled', 'spin', 'split', 'spoiled', 'spoke', 'spoken', 'sport', 'spot', 'spoti', 'spotify', 'spotlight', 'spotthen', 'spouse', 'sprinkler', 'sprint', 'spur', 'spying', 'squarerectangular', 'squirm', 'sry', 'ssdi', 'st', 'staff', 'stage', 'staging', 'stair', 'stand', 'standalone', 'standard', 'standing', 'standsoutlikeasorethumb', 'star', 'stark', 'starsi', 'start', 'started', 'starting', 'stat', 'state', 'statement', 'station', 'stationary', 'stationed', 'stay', 'stayed', 'staying', 'steaming', 'steep', 'stellar', 'step', 'stepmy', 'stereo', 'stick', 'stickeasy', 'stickworks', 'still', 'stimulus', 'stink', 'stoled', 'stop', 'stopped', 'storage', 'store', 'storm', 'story', 'stove', 'straight', 'straightforward', 'strange', 'stream', 'streaming', 'streamline', 'strictly', 'string', 'strip', 'strong', 'strongly', 'structure', 'struggle', 'stubborn', 'stuck', 'student', 'stuff', 'stump', 'stupid', 'sturdy', 'style', 'stylish', 'su', 'sub', 'subject', 'subpar', 'subscriber', 'subscribing', 'subscription', 'subscriptiondoes', 'subsequently', 'substitute', 'success', 'successful', 'successfully', 'successor', 'suck', 'suffer', 'sufficient', 'suffolk', 'suggest', 'suggested', 'suggesting', 'suggestion', 'suggests', 'suitable', 'summoning', 'sunroom', 'supberb', 'super', 'superb', 'supereasy', 'superior', 'supplied', 'supplying', 'support', 'supported', 'supporting', 'suppose', 'supposed', 'sure', 'sure34', 'surely', 'surface', 'surprise', 'surprised', 'surprising', 'surprisingly', 'surroundlike', 'survived', 'sweet', 'swell', 'swipe', 'swiping', 'switch', 'switched', 'switching', 'sync', 'syncd', 'synced', 'synching', 'syncing', 'system', 'table', 'tablet', 'tad', 'tailor', 'take', 'taken', 'taking', 'tale', 'talk', 'talked', 'talking', 'tall', 'taller', 'tap', 'tape', 'taping', 'tapped', 'tardis', 'tasha', 'task', 'taskthe', 'teacher', 'team', 'tear', 'tec', 'tech', 'techie', 'technical', 'technically', 'technician', 'techno', 'technologically', 'technology', 'technology34', 'technologyi', 'techwe', 'techy', 'teenager', 'teeth', 'tekkie', 'telephone', 'television', 'tell', 'telling', 'temp', 'temperature', 'tempting', 'ten', 'tend', 'tends', 'terminology', 'terrible', 'terrific', 'terrifici', 'test', 'tested', 'testing', 'texas', 'text', 'tg', 'tge', 'thank', 'thanks', 'that34', 'thati', 'thats', 'thatwe', 'theater', 'theecho', 'theme', 'theory', 'there', 'therefore', 'thermostat', 'thermostatand', 'thestandbase', 'thete', 'theyre', 'thing', 'thingmy', 'thingsbuy', 'thingsit', 'think', 'thinking', 'third', 'thirdparty', 'thiswon', 'thong', 'thorough', 'thoroughly', 'thou', 'though', 'thought', 'thousand', 'three', 'thrilled', 'throughout', 'throw', 'thrown', 'thru', 'thumb', 'thunderstorm', 'thursday', 'ti', 'tickled', 'tie', 'tiempohorainformación', 'tiene', 'til', 'till', 'time', 'timer', 'timermusic', 'timersthe', 'timework', 'timeyou', 'timing', 'tin', 'ting', 'tinker', 'tinkering', 'tinny', 'tiny', 'tip', 'tipping', 'tired', 'title', 'tivo', 'tocomplain', 'toda', 'today', 'toddler', 'together', 'toilet', 'told', 'tomorrow', 'tomy', 'ton', 'tone', 'tony', 'took', 'tool', 'tooth', 'top', 'topic', 'tosca', 'total', 'totallly', 'totally', 'tou', 'touch', 'touching', 'touted', 'toward', 'towards', 'tower', 'town', 'toy', 'tplink', 'track', 'traditional', 'traffic', 'trailer', 'trained', 'trainee', 'training', 'transferring', 'travel', 'traveling', 'travelling', 'través', 'treadmill', 'treat', 'treble', 'trek', 'tremendous', 'trending', 'trial', 'trick', 'tricky', 'tried', 'trigger', 'trip', 'trivia', 'trouble', 'troublefree', 'troubleshooting', 'troublesome', 'troubling', 'true', 'truesetting', 'truly', 'trust', 'try', 'try34', 'trying', 'tube', 'tubi', 'tune', 'tunein', 'turn', 'turned', 'turning', 'tv', 'tvalexa', 'tvi', 'tvit', 'tvmovie', 'tweeter', 'twice', 'twist', 'twitter', 'two', 'twothis', 'ty', 'type', 'typed', 'typethe', 'typical', 'typically', 'typing', 'títulos', 'udefulness', 'ugly', 'uhyour', 'ummm', 'un', 'unable', 'unacceptable', 'unavailable', 'unbelievable', 'uncle', 'underestimated', 'understand', 'understandim', 'understanding', 'understands', 'understood', 'unexpected', 'unfortunately', 'unhappy', 'unhelpful', 'unico', 'unimportant', 'uninstallreinstallreconfigure', 'unique', 'unit', 'unit2', 'universal', 'unless', 'unlike', 'unlimited', 'unlocking', 'unnannounced', 'unnecessary', 'unobtrusive', 'unplug', 'unplugged', 'unresponsive', 'unsettling', 'untapped', 'unusable1', 'unused', 'unwitty', 'unwrapped', 'upa', 'upcoming', 'update', 'updated', 'updatesit', 'updating', 'updown', 'upgrade', 'upgraded', 'upgrading', 'upgreade', 'upload', 'uplove', 'upon', 'upset', 'upsetting', 'upstairs', 'urge', 'us', 'usa', 'usable', 'usage', 'usb', 'usde', 'use', 'useamazing', 'used', 'useful', 'usefulhalf', 'usei', 'usejust', 'useless', 'user', 'usessometimes', 'using', 'usual', 'usually', 'utility', 'utilización', 'utilize', 'utilizing', 'utube', 'vacation', 'vacuum', 'value', 'variant', 'variety', 'various', 'vast', 'vehicle', 'verbal', 'verbalize', 'verbally', 'versa', 'versai', 'versatile', 'versatility', 'verse', 'version', 'versus', 'verygod', 'vetted', 'vez', 'via', 'vibrating', 'vice', 'viceo', 'video', 'videoseven', 'view', 'viewed', 'viewing', 'viewingit', 'vintage', 'viola', 'virtual', 'virtually', 'visa', 'visible', 'vision', 'visit', 'visiting', 'visual', 'visuals', 'vlan', 'voice', 'voicecontrollable', 'voiceview', 'voila', 'voilahaving', 'voltage', 'voltson', 'volume', 'volumeyou', 'vudu', 'wait', 'waited', 'waiting', 'wake', 'wakeup', 'wakeword', 'waking', 'walk', 'walked', 'walking', 'wall', 'want', 'wanted', 'wanthad', 'wanting', 'wantwe', 'warehouse', 'warning', 'warns', 'warranty', 'wasconcerned', 'wasnt', 'waste', 'wasted', 'watch', 'watched', 'watching', 'water', 'waterits', 'wattage', 'wave', 'waveit', 'way', 'weak', 'wealth', 'wear', 'weary', 'weather', 'weather34', 'weathera', 'web', 'website', 'wedding', 'week', 'weekday', 'weekend', 'weekly', 'weight', 'weird', 'welcome', 'well', 'wellall', 'wellequalized', 'wellfour', 'wellgood', 'wellintegrated', 'wellmade', 'went', 'werent', 'weve', 'whatever', 'whats', 'whatsoever', 'whe', 'whenever', 'whenif', 'wherever', 'whether', 'whisper', 'whistle', 'white', 'whitenbspgreat', 'who', 'whole', 'whose', 'wi', 'wide', 'widespread', 'wife', 'wifi', 'wikipedia', 'willing', 'wind', 'window', 'wink', 'wireless', 'wish', 'wished', 'wishing', 'withdislikes', 'within', 'without', 'woke', 'woken', 'wonder', 'wonderful', 'wonderfully', 'wont', 'woofer', 'woohoo', 'word', 'work', 'workarounds', 'workat', 'worked', 'working', 'workingalexa', 'workout', 'workreat', 'world', 'worried', 'worry', 'worsedon', 'worst', 'worth', 'worthless', 'worthy', 'would', 'wouldnt', 'wow', 'writes', 'writing', 'wrong', 'xbox', 'xfinity', 'xm', 'yale', 'yard', 'yeah', 'year', 'yearold', 'yell', 'yelling', 'yellow', 'yep', 'yes', 'yesterday', 'yet', 'yhe', 'york', 'you1', 'youd', 'youll', 'young', 'younger', 'youngest', 'youre', 'youtube', 'youtubeit', 'youtubes', 'yr', 'yup', 'zero', 'zigbee', 'zonkedout', 'zwave', 'zzzz', 'zzzzzzz', 'útil']\n",
            "(3150, 3988)\n"
          ],
          "name": "stdout"
        },
        {
          "output_type": "execute_result",
          "data": {
            "text/plain": [
              "{'072318': 0.0,\n",
              " '10': 0.0,\n",
              " '100': 0.0,\n",
              " '1000': 0.0,\n",
              " '100x': 0.0,\n",
              " '1010': 0.0,\n",
              " '1030pm': 0.0,\n",
              " '11': 0.0,\n",
              " '1100sf': 0.0,\n",
              " '1220': 0.0,\n",
              " '129': 0.0,\n",
              " '12am': 0.0,\n",
              " '15': 0.0,\n",
              " '150': 0.0,\n",
              " '19': 0.0,\n",
              " '1964': 0.0,\n",
              " '1990': 0.0,\n",
              " '1990s': 0.0,\n",
              " '1gb': 0.0,\n",
              " '1rst': 0.0,\n",
              " '1st': 0.0,\n",
              " '20': 0.0,\n",
              " '200': 0.0,\n",
              " '2000': 0.0,\n",
              " '2017': 0.0,\n",
              " '2030': 0.0,\n",
              " '229': 0.0,\n",
              " '23': 0.0,\n",
              " '2448': 0.0,\n",
              " '247': 0.0,\n",
              " '24ghz': 0.0,\n",
              " '25': 0.0,\n",
              " '29': 0.0,\n",
              " '299': 0.0,\n",
              " '2999': 0.0,\n",
              " '2nd': 0.0,\n",
              " '2or': 0.0,\n",
              " '2original': 0.0,\n",
              " '2package': 0.0,\n",
              " '30': 0.0,\n",
              " '300': 0.0,\n",
              " '30so': 0.0,\n",
              " '334': 0.0,\n",
              " '34': 0.0,\n",
              " '342nd': 0.0,\n",
              " '3434': 0.0,\n",
              " '34a34': 0.0,\n",
              " '34alexa': 0.0,\n",
              " '34alexa34': 0.0,\n",
              " '34card34': 0.0,\n",
              " '34certified': 0.0,\n",
              " '34computer34': 0.0,\n",
              " '34cycle': 0.0,\n",
              " '34cycle34': 0.0,\n",
              " '34dot34': 0.0,\n",
              " '34drop': 0.0,\n",
              " '34first': 0.0,\n",
              " '34fixes34': 0.0,\n",
              " '34fun34': 0.0,\n",
              " '34group34': 0.0,\n",
              " '34hear34': 0.0,\n",
              " '34hmm': 0.0,\n",
              " '34hmmm': 0.0,\n",
              " '34hub': 0.0,\n",
              " '34i': 0.0,\n",
              " '34im': 0.0,\n",
              " '34it34': 0.0,\n",
              " '34late': 0.0,\n",
              " '34learn': 0.0,\n",
              " '34light34': 0.0,\n",
              " '34lights34': 0.0,\n",
              " '34listen34': 0.0,\n",
              " '34minor': 0.0,\n",
              " '34never': 0.0,\n",
              " '34outlet34': 0.0,\n",
              " '34personal34': 0.0,\n",
              " '34philips': 0.0,\n",
              " '34play': 0.0,\n",
              " '34second': 0.0,\n",
              " '34she34': 0.0,\n",
              " '34show': 0.0,\n",
              " '34skills34': 0.0,\n",
              " '34smart': 0.0,\n",
              " '34smart34': 0.0,\n",
              " '34sorry': 0.0,\n",
              " '34spying34': 0.0,\n",
              " '34tell': 0.0,\n",
              " '34the': 0.0,\n",
              " '34thick34': 0.0,\n",
              " '34things': 0.0,\n",
              " '34this': 0.0,\n",
              " '34thongs': 0.0,\n",
              " '34trouble': 0.0,\n",
              " '34try': 0.0,\n",
              " '34turn': 0.0,\n",
              " '34visual34': 0.0,\n",
              " '34wake34me': 0.0,\n",
              " '34warehouse34': 0.0,\n",
              " '34whats': 0.0,\n",
              " '35': 0.0,\n",
              " '360': 0.0,\n",
              " '39': 0.0,\n",
              " '399': 0.0,\n",
              " '3999': 0.0,\n",
              " '3dots': 0.0,\n",
              " '3rd': 0.0,\n",
              " '3xs': 0.0,\n",
              " '40000': 0.0,\n",
              " '45': 0.0,\n",
              " '48': 0.0,\n",
              " '4am': 0.0,\n",
              " '4k': 0.0,\n",
              " '4th': 0.0,\n",
              " '50': 0.0,\n",
              " '54': 0.0,\n",
              " '5am': 0.0,\n",
              " '5ghz': 0.0,\n",
              " '5th': 0.0,\n",
              " '600': 0.0,\n",
              " '62': 0.0,\n",
              " '672': 0.0,\n",
              " '6th': 0.0,\n",
              " '70': 0.0,\n",
              " '7000': 0.0,\n",
              " '75': 0.0,\n",
              " '7900': 0.0,\n",
              " '80': 0.0,\n",
              " '81': 0.0,\n",
              " '83': 0.0,\n",
              " '85': 0.0,\n",
              " '88': 0.0,\n",
              " '888': 0.0,\n",
              " '8gb': 0.0,\n",
              " '90': 0.0,\n",
              " '91': 0.0,\n",
              " '911': 0.0,\n",
              " '99': 0.0,\n",
              " 'a1': 0.0,\n",
              " 'a19': 0.0,\n",
              " 'abay': 0.0,\n",
              " 'abc': 0.0,\n",
              " 'abd': 0.0,\n",
              " 'ability': 0.0,\n",
              " 'able': 0.0,\n",
              " 'abode': 0.0,\n",
              " 'absolutely': 0.0,\n",
              " 'absolutly': 0.0,\n",
              " 'ac': 0.0,\n",
              " 'accent': 0.0,\n",
              " 'accentthe': 0.0,\n",
              " 'acceptable': 0.0,\n",
              " 'accepting': 0.0,\n",
              " 'access': 0.0,\n",
              " 'accessable': 0.0,\n",
              " 'accessible': 0.0,\n",
              " 'accessing': 0.0,\n",
              " 'accessneeds': 0.0,\n",
              " 'accessory': 0.0,\n",
              " 'accessto': 0.0,\n",
              " 'accident': 0.0,\n",
              " 'accidentally': 0.0,\n",
              " 'accompanying': 0.0,\n",
              " 'accomplish': 0.0,\n",
              " 'accomplished': 0.0,\n",
              " 'according': 0.0,\n",
              " 'accordingly': 0.0,\n",
              " 'account': 0.0,\n",
              " 'accuracy': 0.0,\n",
              " 'accurate': 0.0,\n",
              " 'accurately': 0.0,\n",
              " 'accustom': 0.0,\n",
              " 'acknowledge': 0.0,\n",
              " 'acoustical': 0.0,\n",
              " 'across': 0.0,\n",
              " 'act': 0.0,\n",
              " 'acting': 0.0,\n",
              " 'action': 0.0,\n",
              " 'activate': 0.0,\n",
              " 'activated': 0.0,\n",
              " 'activates': 0.0,\n",
              " 'activating': 0.0,\n",
              " 'activation': 0.0,\n",
              " 'actively': 0.0,\n",
              " 'activity': 0.0,\n",
              " 'actually': 0.0,\n",
              " 'ad': 0.0,\n",
              " 'adapted': 0.0,\n",
              " 'adapter': 0.0,\n",
              " 'adapting': 0.0,\n",
              " 'add': 0.0,\n",
              " 'added': 0.0,\n",
              " 'addict': 0.0,\n",
              " 'addicted': 0.0,\n",
              " 'adding': 0.0,\n",
              " 'addition': 0.0,\n",
              " 'additional': 0.0,\n",
              " 'additionally': 0.0,\n",
              " 'addons': 0.0,\n",
              " 'address': 0.0,\n",
              " 'addressed': 0.0,\n",
              " 'adept': 0.0,\n",
              " 'adequate': 0.0,\n",
              " 'adjacent': 0.0,\n",
              " 'adjust': 0.0,\n",
              " 'adjusting': 0.0,\n",
              " 'adjustment': 0.0,\n",
              " 'adjusts': 0.0,\n",
              " 'admit': 0.0,\n",
              " 'adopters34': 0.0,\n",
              " 'adorable': 0.0,\n",
              " 'adult': 0.0,\n",
              " 'advance': 0.0,\n",
              " 'advanced': 0.0,\n",
              " 'advantage': 0.0,\n",
              " 'advertise': 0.0,\n",
              " 'advertised': 0.0,\n",
              " 'advertisement': 0.0,\n",
              " 'advertising': 0.0,\n",
              " 'advice': 0.0,\n",
              " 'advise': 0.0,\n",
              " 'advised': 0.0,\n",
              " 'aesthetic': 0.0,\n",
              " 'af': 0.0,\n",
              " 'affirmation': 0.0,\n",
              " 'affirmcom': 0.0,\n",
              " 'afford': 0.0,\n",
              " 'affordable': 0.0,\n",
              " 'afraid': 0.0,\n",
              " 'afternoon': 0.0,\n",
              " 'afterwards': 0.0,\n",
              " 'againi': 0.0,\n",
              " 'againthis': 0.0,\n",
              " 'age': 0.0,\n",
              " 'agent': 0.0,\n",
              " 'ago': 0.0,\n",
              " 'agoyesterday': 0.0,\n",
              " 'agree': 0.0,\n",
              " 'agreement': 0.0,\n",
              " 'ahead': 0.0,\n",
              " 'ai': 0.0,\n",
              " 'aide': 0.0,\n",
              " 'aint': 0.0,\n",
              " 'air': 0.0,\n",
              " 'aka': 0.0,\n",
              " 'al': 0.0,\n",
              " 'alabama': 0.0,\n",
              " 'alarm': 0.0,\n",
              " 'alarmbed': 0.0,\n",
              " 'alarmcom': 0.0,\n",
              " 'alarmthis': 0.0,\n",
              " 'albeit': 0.0,\n",
              " 'alcohol': 0.0,\n",
              " 'alert': 0.0,\n",
              " 'alex': 0.0,\n",
              " 'alexa': 0.0,\n",
              " 'alexa34': 0.0,\n",
              " 'alexaalso': 0.0,\n",
              " 'alexaechocomputer': 0.0,\n",
              " 'alexas': 0.0,\n",
              " 'alexathis': 0.0,\n",
              " 'alexi': 0.0,\n",
              " 'alexia': 0.0,\n",
              " 'alexis': 0.0,\n",
              " 'alexus': 0.0,\n",
              " 'algo': 0.0,\n",
              " 'alive': 0.0,\n",
              " 'alleviate': 0.0,\n",
              " 'alli': 0.0,\n",
              " 'allinone': 0.0,\n",
              " 'alloverall': 0.0,\n",
              " 'allow': 0.0,\n",
              " 'allowed': 0.0,\n",
              " 'allowing': 0.0,\n",
              " 'allows': 0.0,\n",
              " 'allrecipes': 0.0,\n",
              " 'almost': 0.0,\n",
              " 'alone': 0.0,\n",
              " 'along': 0.0,\n",
              " 'alongside': 0.0,\n",
              " 'alot': 0.0,\n",
              " 'alots': 0.0,\n",
              " 'aloud': 0.0,\n",
              " 'alread': 0.0,\n",
              " 'already': 0.0,\n",
              " 'alright': 0.0,\n",
              " 'also': 0.0,\n",
              " 'altering': 0.0,\n",
              " 'alternative': 0.0,\n",
              " 'although': 0.0,\n",
              " 'always': 0.0,\n",
              " 'amaonmazing': 0.0,\n",
              " 'amaxing': 0.0,\n",
              " 'amaze': 0.0,\n",
              " 'amazed': 0.0,\n",
              " 'amazin': 0.0,\n",
              " 'amazing': 0.0,\n",
              " 'amazingly': 0.0,\n",
              " 'amazon': 0.0,\n",
              " 'amazonalexa': 0.0,\n",
              " 'amazonia': 0.0,\n",
              " 'amazonmark': 0.0,\n",
              " 'amazons': 0.0,\n",
              " 'amazont': 0.0,\n",
              " 'amazonzigbee': 0.0,\n",
              " 'ambient': 0.0,\n",
              " 'american': 0.0,\n",
              " 'among': 0.0,\n",
              " 'amount': 0.0,\n",
              " 'amozon': 0.0,\n",
              " 'amplifier': 0.0,\n",
              " 'amused': 0.0,\n",
              " 'amusing': 0.0,\n",
              " 'analog': 0.0,\n",
              " 'android': 0.0,\n",
              " 'ands': 0.0,\n",
              " 'angle': 0.0,\n",
              " 'annoying': 0.0,\n",
              " 'another': 0.0,\n",
              " 'answer': 0.0,\n",
              " 'answered': 0.0,\n",
              " 'answering': 0.0,\n",
              " 'ant': 0.0,\n",
              " 'anticipate': 0.0,\n",
              " 'anticipated': 0.0,\n",
              " 'antitechnology': 0.0,\n",
              " 'anybody': 0.0,\n",
              " 'anyhow': 0.0,\n",
              " 'anylist': 0.0,\n",
              " 'anymore': 0.0,\n",
              " 'anyone': 0.0,\n",
              " 'anypod': 0.0,\n",
              " 'anything': 0.0,\n",
              " 'anythingi': 0.0,\n",
              " 'anytime': 0.0,\n",
              " 'anyway': 0.0,\n",
              " 'anyways': 0.0,\n",
              " 'anywhere': 0.0,\n",
              " 'apartment': 0.0,\n",
              " 'app': 0.0,\n",
              " 'app34': 0.0,\n",
              " 'apparent': 0.0,\n",
              " 'apparently': 0.0,\n",
              " 'apparentlylong': 0.0,\n",
              " 'appealing': 0.0,\n",
              " 'appear': 0.0,\n",
              " 'appears': 0.0,\n",
              " 'apple': 0.0,\n",
              " 'appliance': 0.0,\n",
              " 'application': 0.0,\n",
              " 'appointment': 0.0,\n",
              " 'appointmentsi': 0.0,\n",
              " 'appon': 0.0,\n",
              " 'appreciated': 0.0,\n",
              " 'apprehensive': 0.0,\n",
              " 'approaching': 0.0,\n",
              " 'appropriate': 0.0,\n",
              " 'approximately': 0.0,\n",
              " 'apps': 0.0,\n",
              " 'area': 0.0,\n",
              " 'arent': 0.0,\n",
              " 'argue': 0.0,\n",
              " 'argument': 0.0,\n",
              " 'arises': 0.0,\n",
              " 'arlo': 0.0,\n",
              " 'arm': 0.0,\n",
              " 'around': 0.0,\n",
              " 'aroundno': 0.0,\n",
              " 'array': 0.0,\n",
              " 'arrive': 0.0,\n",
              " 'arrived': 0.0,\n",
              " 'arriving': 0.0,\n",
              " 'article': 0.0,\n",
              " 'artist': 0.0,\n",
              " 'artistbut': 0.0,\n",
              " 'as': 0.0,\n",
              " 'asap': 0.0,\n",
              " 'ase': 0.0,\n",
              " 'ask': 0.0,\n",
              " 'asked': 0.0,\n",
              " 'askes': 0.0,\n",
              " 'asking': 0.0,\n",
              " 'askmy': 0.0,\n",
              " 'asleep': 0.0,\n",
              " 'aspect': 0.0,\n",
              " 'aspectsa': 0.0,\n",
              " 'assigned': 0.0,\n",
              " 'assist': 0.0,\n",
              " 'assistance': 0.0,\n",
              " 'assistant': 0.0,\n",
              " 'assume': 0.0,\n",
              " 'assumed': 0.0,\n",
              " 'assuming': 0.0,\n",
              " 'assumption': 0.0,\n",
              " 'atención': 0.0,\n",
              " 'atmosphere': 0.0,\n",
              " 'atrás': 0.0,\n",
              " 'attach': 0.0,\n",
              " 'attached': 0.0,\n",
              " 'attachment': 0.0,\n",
              " 'attempt': 0.0,\n",
              " 'attempted': 0.0,\n",
              " 'attempting': 0.0,\n",
              " 'attention': 0.0,\n",
              " 'attractive': 0.0,\n",
              " 'audible': 0.0,\n",
              " 'audiblei': 0.0,\n",
              " 'audio': 0.0,\n",
              " 'audioapple': 0.0,\n",
              " 'audiobook': 0.0,\n",
              " 'audiobooks': 0.0,\n",
              " 'audiophile': 0.0,\n",
              " 'august': 0.0,\n",
              " 'aunt': 0.0,\n",
              " 'auto': 0.0,\n",
              " 'automatic': 0.0,\n",
              " 'automatically': 0.0,\n",
              " 'automation': 0.0,\n",
              " 'aux': 0.0,\n",
              " 'auxiliary': 0.0,\n",
              " 'av': 0.0,\n",
              " 'avail': 0.0,\n",
              " 'availability': 0.0,\n",
              " 'available': 0.0,\n",
              " 'avoid': 0.0,\n",
              " 'awake': 0.0,\n",
              " 'aware': 0.0,\n",
              " 'away': 0.0,\n",
              " 'awesome': 0.0,\n",
              " 'awesomeunderstands': 0.0,\n",
              " 'awesomeyou': 0.0,\n",
              " 'awful': 0.0,\n",
              " 'awhile': 0.0,\n",
              " 'awkward': 0.0,\n",
              " 'awsome': 0.0,\n",
              " 'baby': 0.0,\n",
              " 'back': 0.0,\n",
              " 'background': 0.0,\n",
              " 'backthe': 0.0,\n",
              " 'backyard': 0.0,\n",
              " 'bad': 0.0,\n",
              " 'baffle': 0.0,\n",
              " 'baffled': 0.0,\n",
              " 'ball': 0.0,\n",
              " 'ban': 0.0,\n",
              " 'band': 0.0,\n",
              " 'bandwagon': 0.0,\n",
              " 'bandwidth': 0.0,\n",
              " 'bang': 0.0,\n",
              " 'bar': 0.0,\n",
              " 'bare': 0.0,\n",
              " 'barely': 0.0,\n",
              " 'bargain': 0.0,\n",
              " 'bark': 0.0,\n",
              " 'barn': 0.0,\n",
              " 'barrets': 0.0,\n",
              " 'barry': 0.0,\n",
              " 'base': 0.0,\n",
              " 'baseball': 0.0,\n",
              " 'based': 0.0,\n",
              " 'basement': 0.0,\n",
              " 'basic': 0.0,\n",
              " 'basically': 0.0,\n",
              " 'bass': 0.0,\n",
              " 'bathroom': 0.0,\n",
              " 'batman': 0.0,\n",
              " 'battery': 0.0,\n",
              " 'bc': 0.0,\n",
              " 'beam': 0.0,\n",
              " 'beat': 0.0,\n",
              " 'beautiful': 0.0,\n",
              " 'beautifully': 0.0,\n",
              " 'beauty': 0.0,\n",
              " 'became': 0.0,\n",
              " 'becausse': 0.0,\n",
              " 'become': 0.0,\n",
              " 'becomes': 0.0,\n",
              " 'becoming': 0.0,\n",
              " 'bed': 0.0,\n",
              " 'bedmany': 0.0,\n",
              " 'bedroom': 0.0,\n",
              " 'bedside': 0.0,\n",
              " 'bedtime': 0.0,\n",
              " 'beefy': 0.0,\n",
              " 'begin': 0.0,\n",
              " 'beginner': 0.0,\n",
              " 'beginning': 0.0,\n",
              " 'begun': 0.0,\n",
              " 'behaved': 0.0,\n",
              " 'behind': 0.0,\n",
              " 'believe': 0.0,\n",
              " 'believer': 0.0,\n",
              " 'bell': 0.0,\n",
              " 'belong': 0.0,\n",
              " 'benefit': 0.0,\n",
              " 'beside': 0.0,\n",
              " 'besides': 0.0,\n",
              " 'best': 0.0,\n",
              " 'bestand': 0.0,\n",
              " 'bet': 0.0,\n",
              " 'beta': 0.0,\n",
              " 'better': 0.0,\n",
              " 'betterbesides': 0.0,\n",
              " 'bettter': 0.0,\n",
              " 'beyond': 0.0,\n",
              " 'bezel': 0.0,\n",
              " 'bezos': 0.0,\n",
              " 'bf': 0.0,\n",
              " 'bff': 0.0,\n",
              " 'bible': 0.0,\n",
              " 'big': 0.0,\n",
              " 'bigger': 0.0,\n",
              " 'biggest': 0.0,\n",
              " 'bill': 0.0,\n",
              " 'billboard': 0.0,\n",
              " 'bing': 0.0,\n",
              " 'birth': 0.0,\n",
              " 'birthday': 0.0,\n",
              " 'birthdayonly': 0.0,\n",
              " 'bit': 0.0,\n",
              " 'bizarre': 0.0,\n",
              " 'black': 0.0,\n",
              " 'blanket': 0.0,\n",
              " 'blast': 0.0,\n",
              " 'blasting': 0.0,\n",
              " 'blessing': 0.0,\n",
              " 'blind': 0.0,\n",
              " 'blink': 0.0,\n",
              " 'blocking': 0.0,\n",
              " 'blood': 0.0,\n",
              " 'bloomberg': 0.0,\n",
              " 'blow': 0.0,\n",
              " 'blown': 0.0,\n",
              " 'blue': 0.0,\n",
              " 'blueprint': 0.0,\n",
              " 'bluetooth': 0.0,\n",
              " 'blurring': 0.0,\n",
              " 'board': 0.0,\n",
              " 'boat': 0.0,\n",
              " 'bob': 0.0,\n",
              " 'body': 0.0,\n",
              " 'bolt': 0.0,\n",
              " 'bonkers': 0.0,\n",
              " 'bonus': 0.0,\n",
              " 'book': 0.0,\n",
              " 'booksthe': 0.0,\n",
              " 'boom': 0.0,\n",
              " 'boombox': 0.0,\n",
              " 'booming': 0.0,\n",
              " 'boost': 0.0,\n",
              " 'boring': 0.0,\n",
              " 'born': 0.0,\n",
              " 'bos': 0.0,\n",
              " 'bose': 0.0,\n",
              " 'bot': 0.0,\n",
              " 'bother': 0.0,\n",
              " 'bothered': 0.0,\n",
              " 'bothersome': 0.0,\n",
              " 'bottom': 0.0,\n",
              " 'bough': 0.0,\n",
              " 'bought': 0.0,\n",
              " 'box': 0.0,\n",
              " 'boyfriend': 0.0,\n",
              " 'brand': 0.0,\n",
              " 'brandnew': 0.0,\n",
              " 'brandunlimited': 0.0,\n",
              " 'bread': 0.0,\n",
              " 'break': 0.0,\n",
              " 'breakfast': 0.0,\n",
              " 'breeze': 0.0,\n",
              " 'bridge': 0.0,\n",
              " 'brief': 0.0,\n",
              " 'briefing': 0.0,\n",
              " 'bright': 0.0,\n",
              " 'brightness': 0.0,\n",
              " 'bring': 0.0,\n",
              " 'bringing': 0.0,\n",
              " 'british': 0.0,\n",
              " 'broadway': 0.0,\n",
              " 'broke': 0.0,\n",
              " 'broken': 0.0,\n",
              " 'brought': 0.0,\n",
              " 'bt': 0.0,\n",
              " 'buck': 0.0,\n",
              " 'buddy': 0.0,\n",
              " 'budget': 0.0,\n",
              " 'buffer': 0.0,\n",
              " 'buffering': 0.0,\n",
              " 'buffet': 0.0,\n",
              " 'bug': 0.0,\n",
              " 'bugging': 0.0,\n",
              " 'buildin': 0.0,\n",
              " 'building': 0.0,\n",
              " 'built': 0.0,\n",
              " 'builtin': 0.0,\n",
              " 'bulb': 0.0,\n",
              " 'bulbswhat': 0.0,\n",
              " 'buld': 0.0,\n",
              " 'bulky': 0.0,\n",
              " 'bummed': 0.0,\n",
              " 'bunch': 0.0,\n",
              " 'bundle': 0.0,\n",
              " 'bundled': 0.0,\n",
              " 'burn': 0.0,\n",
              " 'business': 0.0,\n",
              " 'busy': 0.0,\n",
              " 'butnot': 0.0,\n",
              " 'butomg': 0.0,\n",
              " 'buts': 0.0,\n",
              " 'button': 0.0,\n",
              " 'buttons3': 0.0,\n",
              " 'buy': 0.0,\n",
              " 'buyer': 0.0,\n",
              " 'buyi': 0.0,\n",
              " 'buying': 0.0,\n",
              " 'buywe': 0.0,\n",
              " 'buzzing': 0.0,\n",
              " 'bye': 0.0,\n",
              " 'cable': 0.0,\n",
              " 'calendar': 0.0,\n",
              " 'call': 0.0,\n",
              " 'called': 0.0,\n",
              " 'calling': 0.0,\n",
              " 'calm': 0.0,\n",
              " 'calmer': 0.0,\n",
              " 'cam': 0.0,\n",
              " 'cambiar': 0.0,\n",
              " 'came': 0.0,\n",
              " 'camelot': 0.0,\n",
              " 'camera': 0.0,\n",
              " 'camera34': 0.0,\n",
              " 'campus': 0.0,\n",
              " 'canary': 0.0,\n",
              " 'cancel': 0.0,\n",
              " 'canceling': 0.0,\n",
              " 'cancelled': 0.0,\n",
              " 'cant': 0.0,\n",
              " 'capabilitiesbut': 0.0,\n",
              " 'capability': 0.0,\n",
              " 'capable': 0.0,\n",
              " 'capacity': 0.0,\n",
              " 'capasity': 0.0,\n",
              " 'car': 0.0,\n",
              " 'card': 0.0,\n",
              " 'cardsrotate': 0.0,\n",
              " 'care': 0.0,\n",
              " 'carefully': 0.0,\n",
              " 'careless': 0.0,\n",
              " 'carful': 0.0,\n",
              " 'carolina': 0.0,\n",
              " 'carrier': 0.0,\n",
              " 'carry': 0.0,\n",
              " 'cart': 0.0,\n",
              " 'cartoon': 0.0,\n",
              " 'case': 0.0,\n",
              " 'cat': 0.0,\n",
              " 'catch': 0.0,\n",
              " 'category': 0.0,\n",
              " 'cause': 0.0,\n",
              " 'caused': 0.0,\n",
              " 'cave': 0.0,\n",
              " 'cbs': 0.0,\n",
              " 'cd': 0.0,\n",
              " 'cdalarm': 0.0,\n",
              " 'cease': 0.0,\n",
              " 'ceiling': 0.0,\n",
              " 'ceilingscons': 0.0,\n",
              " 'celebs': 0.0,\n",
              " 'cell': 0.0,\n",
              " 'cellphone': 0.0,\n",
              " 'cent': 0.0,\n",
              " 'center': 0.0,\n",
              " 'certain': 0.0,\n",
              " 'certainly': 0.0,\n",
              " 'certified': 0.0,\n",
              " 'chachki': 0.0,\n",
              " 'chair': 0.0,\n",
              " 'chairlaziness': 0.0,\n",
              " 'chalk': 0.0,\n",
              " 'challenge': 0.0,\n",
              " 'challenged': 0.0,\n",
              " 'champ': 0.0,\n",
              " 'chance': 0.0,\n",
              " 'change': 0.0,\n",
              " 'changed': 0.0,\n",
              " 'changer': 0.0,\n",
              " 'changing': 0.0,\n",
              " 'channel': 0.0,\n",
              " 'channelsmust': 0.0,\n",
              " 'characteristic': 0.0,\n",
              " 'charge': 0.0,\n",
              " 'chargeable': 0.0,\n",
              " 'charger': 0.0,\n",
              " 'charging': 0.0,\n",
              " 'charlotte': 0.0,\n",
              " 'charm': 0.0,\n",
              " 'charmed': 0.0,\n",
              " 'chart': 0.0,\n",
              " 'chat': 0.0,\n",
              " 'chatting': 0.0,\n",
              " 'cheap': 0.0,\n",
              " 'cheaper': 0.0,\n",
              " 'cheapest': 0.0,\n",
              " 'check': 0.0,\n",
              " 'checked': 0.0,\n",
              " 'checking': 0.0,\n",
              " 'child': 0.0,\n",
              " 'childhood': 0.0,\n",
              " 'chocolate': 0.0,\n",
              " 'choice': 0.0,\n",
              " 'choose': 0.0,\n",
              " 'choosing': 0.0,\n",
              " 'choppy': 0.0,\n",
              " 'chore': 0.0,\n",
              " 'chose': 0.0,\n",
              " 'chosen': 0.0,\n",
              " 'christmas': 0.0,\n",
              " 'chromebook': 0.0,\n",
              " 'chromecast': 0.0,\n",
              " 'circle': 0.0,\n",
              " 'citizen': 0.0,\n",
              " 'city': 0.0,\n",
              " 'clapper': 0.0,\n",
              " 'clarity': 0.0,\n",
              " 'class': 0.0,\n",
              " 'classic': 0.0,\n",
              " 'classical': 0.0,\n",
              " 'classroom': 0.0,\n",
              " 'clean': 0.0,\n",
              " 'cleaner': 0.0,\n",
              " 'cleaning': 0.0,\n",
              " 'clear': 0.0,\n",
              " 'clearalexa': 0.0,\n",
              " 'clearer': 0.0,\n",
              " 'clearfor': 0.0,\n",
              " 'clearly': 0.0,\n",
              " 'click': 0.0,\n",
              " 'client': 0.0,\n",
              " 'clip': 0.0,\n",
              " 'clock': 0.0,\n",
              " 'clockalarmradio': 0.0,\n",
              " 'clockhome': 0.0,\n",
              " 'clocking': 0.0,\n",
              " 'clockradio': 0.0,\n",
              " 'clone': 0.0,\n",
              " 'close': 0.0,\n",
              " 'closed': 0.0,\n",
              " 'closer': 0.0,\n",
              " 'clothes': 0.0,\n",
              " 'cloud': 0.0,\n",
              " 'clue': 0.0,\n",
              " 'cnn': 0.0,\n",
              " 'coast': 0.0,\n",
              " 'code': 0.0,\n",
              " 'coffeeetc': 0.0,\n",
              " 'cohesive': 0.0,\n",
              " 'collection': 0.0,\n",
              " 'collector': 0.0,\n",
              " 'college': 0.0,\n",
              " 'colon': 0.0,\n",
              " 'color': 0.0,\n",
              " 'comands': 0.0,\n",
              " 'combination': 0.0,\n",
              " 'combine': 0.0,\n",
              " 'combined': 0.0,\n",
              " 'come': 0.0,\n",
              " 'comeletely': 0.0,\n",
              " 'comfort': 0.0,\n",
              " 'comfortable': 0.0,\n",
              " 'comforting': 0.0,\n",
              " 'coming': 0.0,\n",
              " 'command': 0.0,\n",
              " 'commandbut': 0.0,\n",
              " 'commanded': 0.0,\n",
              " 'commandsim': 0.0,\n",
              " 'comment': 0.0,\n",
              " 'commercial': 0.0,\n",
              " 'commodity': 0.0,\n",
              " 'common': 0.0,\n",
              " 'communicate': 0.0,\n",
              " 'communicated': 0.0,\n",
              " 'communicating': 0.0,\n",
              " 'communication': 0.0,\n",
              " 'community': 0.0,\n",
              " 'commute': 0.0,\n",
              " 'commuteif': 0.0,\n",
              " 'como': 0.0,\n",
              " 'compacity': 0.0,\n",
              " 'compact': 0.0,\n",
              " 'companion': 0.0,\n",
              " 'company': 0.0,\n",
              " 'comparable': 0.0,\n",
              " 'compare': 0.0,\n",
              " 'compared': 0.0,\n",
              " 'compatible': 0.0,\n",
              " 'competition': 0.0,\n",
              " 'complacatedi': 0.0,\n",
              " 'complain': 0.0,\n",
              " 'complained': 0.0,\n",
              " 'complaini': 0.0,\n",
              " 'complaining': 0.0,\n",
              " 'complaint': 0.0,\n",
              " 'complaintno': 0.0,\n",
              " 'complete': 0.0,\n",
              " 'completed': 0.0,\n",
              " 'completely': 0.0,\n",
              " 'complicated': 0.0,\n",
              " 'compliment': 0.0,\n",
              " 'component': 0.0,\n",
              " 'compound': 0.0,\n",
              " 'computer': 0.0,\n",
              " 'con': 0.0,\n",
              " 'concept': 0.0,\n",
              " 'concern': 0.0,\n",
              " 'concerned': 0.0,\n",
              " 'concerning': 0.0,\n",
              " 'concise': 0.0,\n",
              " 'condition': 0.0,\n",
              " 'conditioning': 0.0,\n",
              " 'conectado': 0.0,\n",
              " 'conferencing': 0.0,\n",
              " 'confident': 0.0,\n",
              " 'configure': 0.0,\n",
              " 'configured': 0.0,\n",
              " 'conflict': 0.0,\n",
              " 'confused': 0.0,\n",
              " 'confuses': 0.0,\n",
              " 'confusing': 0.0,\n",
              " 'confusioni': 0.0,\n",
              " 'connect': 0.0,\n",
              " 'connected': 0.0,\n",
              " 'connectedwell': 0.0,\n",
              " 'connecting': 0.0,\n",
              " 'connectingcheck': 0.0,\n",
              " 'connection': 0.0,\n",
              " 'connectivity': 0.0,\n",
              " 'connectivityit': 0.0,\n",
              " 'connects': 0.0,\n",
              " 'conscious': 0.0,\n",
              " 'consider': 0.0,\n",
              " 'considering': 0.0,\n",
              " 'consistent': 0.0,\n",
              " 'consistently': 0.0,\n",
              " 'conspiracy': 0.0,\n",
              " 'constant': 0.0,\n",
              " 'constantly': 0.0,\n",
              " 'constructed': 0.0,\n",
              " 'consulting': 0.0,\n",
              " 'consumer': 0.0,\n",
              " 'contact': 0.0,\n",
              " 'contacted': 0.0,\n",
              " 'contains': 0.0,\n",
              " 'content': 0.0,\n",
              " 'continous': 0.0,\n",
              " 'continually': 0.0,\n",
              " 'continue': 0.0,\n",
              " 'continues': 0.0,\n",
              " 'continuous': 0.0,\n",
              " 'continuously': 0.0,\n",
              " 'continuously34': 0.0,\n",
              " 'control': 0.0,\n",
              " 'controll': 0.0,\n",
              " 'controlled': 0.0,\n",
              " 'controller': 0.0,\n",
              " 'controlling': 0.0,\n",
              " 'convenience': 0.0,\n",
              " 'convenient': 0.0,\n",
              " 'conversation': 0.0,\n",
              " 'convert': 0.0,\n",
              " 'convinced': 0.0,\n",
              " 'cook': 0.0,\n",
              " 'cooking': 0.0,\n",
              " 'cool': 0.0,\n",
              " 'coolbonus': 0.0,\n",
              " 'cooler': 0.0,\n",
              " 'coolest': 0.0,\n",
              " 'coop': 0.0,\n",
              " 'coordinator': 0.0,\n",
              " 'cord': 0.0,\n",
              " 'cordless': 0.0,\n",
              " 'cordthank': 0.0,\n",
              " 'core': 0.0,\n",
              " 'correct': 0.0,\n",
              " 'corrected': 0.0,\n",
              " 'correctly': 0.0,\n",
              " 'corresponds': 0.0,\n",
              " 'cortna': 0.0,\n",
              " 'cost': 0.0,\n",
              " 'cotton': 0.0,\n",
              " 'couch': 0.0,\n",
              " 'could': 0.0,\n",
              " 'couldnt': 0.0,\n",
              " 'counter': 0.0,\n",
              " 'countless': 0.0,\n",
              " 'country': 0.0,\n",
              " 'county': 0.0,\n",
              " 'couple': 0.0,\n",
              " 'course': 0.0,\n",
              " 'coursealexa': 0.0,\n",
              " 'cousin': 0.0,\n",
              " 'cover': 0.0,\n",
              " 'covered': 0.0,\n",
              " 'coworker': 0.0,\n",
              " 'cozi': 0.0,\n",
              " 'cpr': 0.0,\n",
              " 'cracked': 0.0,\n",
              " 'crackling': 0.0,\n",
              " 'crap': 0.0,\n",
              " 'crappy': 0.0,\n",
              " 'crash': 0.0,\n",
              " 'crashed': 0.0,\n",
              " 'crashing': 0.0,\n",
              " 'crazy': 0.0,\n",
              " 'creapy': 0.0,\n",
              " 'create': 0.0,\n",
              " 'created': 0.0,\n",
              " 'credited': 0.0,\n",
              " 'creepy': 0.0,\n",
              " 'crib': 0.0,\n",
              " 'crisp': 0.0,\n",
              " 'critically': 0.0,\n",
              " 'cropping': 0.0,\n",
              " 'cross': 0.0,\n",
              " 'crunchyroll': 0.0,\n",
              " 'csimiamiwithout': 0.0,\n",
              " 'cualquier': 0.0,\n",
              " 'cue': 0.0,\n",
              " 'cumbersome': 0.0,\n",
              " 'cup': 0.0,\n",
              " 'current': 0.0,\n",
              " 'currently': 0.0,\n",
              " 'cursed': 0.0,\n",
              " 'curve': 0.0,\n",
              " 'custom': 0.0,\n",
              " 'customer': 0.0,\n",
              " 'customizable': 0.0,\n",
              " 'customization': 0.0,\n",
              " 'customize': 0.0,\n",
              " 'cut': 0.0,\n",
              " 'cute': 0.0,\n",
              " 'cutie': 0.0,\n",
              " 'cutting': 0.0,\n",
              " 'cycle': 0.0,\n",
              " 'cycled': 0.0,\n",
              " 'cylinder': 0.0,\n",
              " 'cylindercal': 0.0,\n",
              " 'dad': 0.0,\n",
              " 'daily': 0.0,\n",
              " 'damage': 0.0,\n",
              " 'dance': 0.0,\n",
              " 'dancing': 0.0,\n",
              " 'dare': 0.0,\n",
              " 'dark': 0.0,\n",
              " 'darn': 0.0,\n",
              " 'dash': 0.0,\n",
              " 'data': 0.0,\n",
              " 'date': 0.0,\n",
              " 'dated': 0.0,\n",
              " 'daughter': 0.0,\n",
              " 'day': 0.0,\n",
              " 'day34': 0.0,\n",
              " 'daytoday': 0.0,\n",
              " 'dayused': 0.0,\n",
              " 'de': 0.0,\n",
              " 'deactivate': 0.0,\n",
              " 'dead': 0.0,\n",
              " 'deaf': 0.0,\n",
              " 'deal': 0.0,\n",
              " 'dealset': 0.0,\n",
              " 'debating': 0.0,\n",
              " 'dec': 0.0,\n",
              " 'decent': 0.0,\n",
              " 'decide': 0.0,\n",
              " 'decided': 0.0,\n",
              " 'decides': 0.0,\n",
              " 'decision': 0.0,\n",
              " 'deck': 0.0,\n",
              " 'decor': 0.0,\n",
              " 'decorated': 0.0,\n",
              " 'decrease': 0.0,\n",
              " 'dedicated': 0.0,\n",
              " 'deep': 0.0,\n",
              " 'deeper': 0.0,\n",
              " 'default': 0.0,\n",
              " 'defaultkaren': 0.0,\n",
              " 'defeat': 0.0,\n",
              " 'defective': 0.0,\n",
              " 'defectivethis': 0.0,\n",
              " 'defence': 0.0,\n",
              " 'defently': 0.0,\n",
              " 'definately': 0.0,\n",
              " 'define': 0.0,\n",
              " 'definitely': 0.0,\n",
              " 'definition': 0.0,\n",
              " 'definitively': 0.0,\n",
              " 'defuseri': 0.0,\n",
              " 'degree': 0.0,\n",
              " 'del': 0.0,\n",
              " 'delay': 0.0,\n",
              " 'delete': 0.0,\n",
              " 'deliver': 0.0,\n",
              " ...}"
            ]
          },
          "metadata": {
            "tags": []
          },
          "execution_count": 28
        }
      ]
    },
    {
      "cell_type": "markdown",
      "metadata": {
        "id": "2-do8sQz82Ym"
      },
      "source": [
        "**Creating dataset for Bag of word model**"
      ]
    },
    {
      "cell_type": "code",
      "metadata": {
        "id": "txAHsFJ-82Ym"
      },
      "source": [
        "v = CountVectorizer()\n",
        "review_train_v = v.fit_transform(xtrain)\n",
        "review_test_v = v.transform(xtest)\n",
        "\n",
        "# review_train_v.shape  #2520,3540\n",
        "# review_test_v.shape   #630,3540\n"
      ],
      "execution_count": 31,
      "outputs": []
    },
    {
      "cell_type": "markdown",
      "metadata": {
        "id": "iIig3rRl82Yn"
      },
      "source": [
        "**Creating dataset for TFIDF model**"
      ]
    },
    {
      "cell_type": "code",
      "metadata": {
        "id": "q0j1a8O282Yn"
      },
      "source": [
        "tfd = TfidfTransformer()\n",
        "review_train_tfd = tfd.fit_transform(review_train_v)\n",
        "review_test_tfd = tfd.transform(review_test_v)"
      ],
      "execution_count": 33,
      "outputs": []
    },
    {
      "cell_type": "markdown",
      "metadata": {
        "id": "3fSw4N0K82Yn"
      },
      "source": [
        "**THIS FUNCTION IS CREATED TO VISUALISE THE CONFUSION MATRIX AND CLASSIFICATION \n",
        "REPORT FOR PROPER ANALYSIS**"
      ]
    },
    {
      "cell_type": "code",
      "metadata": {
        "id": "tfxcQfKO82Yn"
      },
      "source": [
        "from sklearn.metrics import confusion_matrix\n",
        "import seaborn as sns\n",
        "\n",
        "def print_report(ytest,ypred):\n",
        "    \n",
        "    print(classification_report(ytest,ypred))\n",
        "    print(f'Accuracy Score:{accuracy_score(ytest,ypred)}')\n",
        "    print(f'F1 Score:{f1_score(ytest,ypred)}')\n",
        "    print(f'AUCROC Score:{roc_auc_score(ytest,ypred)}')\n",
        "    \n",
        "\n",
        "def print_result(ytest,ypred):\n",
        "    \n",
        "    cm = confusion_matrix(ytest, ypred)\n",
        "    #print(cm)\n",
        "    ax=plt.subplot()\n",
        "    sns.heatmap(cm/np.sum(cm), annot=True, fmt='.2%', cmap='Reds')\n",
        "    ax.set_xlabel('Predicted', fontsize=20)\n",
        "    ax.set_ylabel('Actual', fontsize=20)\n",
        "    ax.xaxis.set_ticklabels(['neg_review', 'pos_review'], fontsize = 15)\n",
        "    ax.xaxis.tick_top()\n",
        "    ax.yaxis.set_ticklabels(['neg_reiview', ' pos_review'], fontsize = 15)"
      ],
      "execution_count": 34,
      "outputs": []
    },
    {
      "cell_type": "markdown",
      "metadata": {
        "id": "Y10f0CFi82Yn"
      },
      "source": [
        "**USING DIFFERENT ML MODELS TO CHECK WHICH FITS THE BEST**\n",
        "\n",
        "1)MULTINOMIAL NAIBE BAYES\n",
        "\n",
        "2)RANDOM FOREST \n",
        "\n",
        "3)SVM\n",
        "\n",
        "4)LOGISTIC REGRESSION"
      ]
    },
    {
      "cell_type": "markdown",
      "metadata": {
        "id": "2pM9hpyI82Yo"
      },
      "source": [
        "**NAIVE BAYES CLASSIFIER**"
      ]
    },
    {
      "cell_type": "code",
      "metadata": {
        "colab": {
          "base_uri": "https://localhost:8080/",
          "height": 502
        },
        "id": "FfU7LSBv82Yo",
        "outputId": "fa94f12c-4477-4fd6-f0a6-85e254bbaeb7"
      },
      "source": [
        "#Naive Bayes\n",
        "#Bow model multinomial\n",
        "\n",
        "multi_nb = MultinomialNB()\n",
        "multi_nb.fit(review_train_v,ytrain)\n",
        "y_pred_v = multi_nb.predict(review_test_v)\n",
        "\n",
        "\n",
        "print_result(ytest, y_pred_v)\n",
        "print_report(ytest, y_pred_v)"
      ],
      "execution_count": 35,
      "outputs": [
        {
          "output_type": "stream",
          "text": [
            "              precision    recall  f1-score   support\n",
            "\n",
            "           0       0.77      0.20      0.31        51\n",
            "           1       0.93      0.99      0.96       579\n",
            "\n",
            "    accuracy                           0.93       630\n",
            "   macro avg       0.85      0.60      0.64       630\n",
            "weighted avg       0.92      0.93      0.91       630\n",
            "\n",
            "Accuracy Score:0.9301587301587302\n",
            "F1 Score:0.9632107023411373\n",
            "AUCROC Score:0.595448542111145\n"
          ],
          "name": "stdout"
        },
        {
          "output_type": "display_data",
          "data": {
            "image/png": "[encoded data removed]",
            "text/plain": [
              "<Figure size 432x288 with 2 Axes>"
            ]
          },
          "metadata": {
            "tags": [],
            "needs_background": "light"
          }
        }
      ]
    },
    {
      "cell_type": "code",
      "metadata": {
        "colab": {
          "base_uri": "https://localhost:8080/",
          "height": 555
        },
        "id": "WSgt6q9F82Yo",
        "outputId": "31076711-9536-4470-a8c6-71eaa2aeff27"
      },
      "source": [
        "#Naive Bayes\n",
        "#TFIDF model multinomial\n",
        "nb = MultinomialNB()\n",
        "nb.fit(review_train_tfd,ytrain)\n",
        "ypred_nb_tfd = nb.predict(review_test_tfd)\n",
        "\n",
        "print_result(ytest, ypred_nb_tfd)\n",
        "print_report(ytest, ypred_nb_tfd)"
      ],
      "execution_count": 36,
      "outputs": [
        {
          "output_type": "stream",
          "text": [
            "/usr/local/lib/python3.7/dist-packages/sklearn/metrics/_classification.py:1272: UndefinedMetricWarning: Precision and F-score are ill-defined and being set to 0.0 in labels with no predicted samples. Use `zero_division` parameter to control this behavior.\n",
            "  _warn_prf(average, modifier, msg_start, len(result))\n"
          ],
          "name": "stderr"
        },
        {
          "output_type": "stream",
          "text": [
            "              precision    recall  f1-score   support\n",
            "\n",
            "           0       0.00      0.00      0.00        51\n",
            "           1       0.92      1.00      0.96       579\n",
            "\n",
            "    accuracy                           0.92       630\n",
            "   macro avg       0.46      0.50      0.48       630\n",
            "weighted avg       0.84      0.92      0.88       630\n",
            "\n",
            "Accuracy Score:0.919047619047619\n",
            "F1 Score:0.9578163771712159\n",
            "AUCROC Score:0.5\n"
          ],
          "name": "stdout"
        },
        {
          "output_type": "display_data",
          "data": {
            "image/png": "[encoded data removed]",
            "text/plain": [
              "<Figure size 432x288 with 2 Axes>"
            ]
          },
          "metadata": {
            "tags": [],
            "needs_background": "light"
          }
        }
      ]
    },
    {
      "cell_type": "markdown",
      "metadata": {
        "id": "s3_9KLh782Yo"
      },
      "source": [
        "**RANDOM FOREST**"
      ]
    },
    {
      "cell_type": "code",
      "metadata": {
        "colab": {
          "base_uri": "https://localhost:8080/",
          "height": 502
        },
        "id": "YyFhv8Ga82Yp",
        "outputId": "3f06d0eb-864d-4fbc-c591-7717f760c066"
      },
      "source": [
        "#random forest\n",
        "#BOW model\n",
        "from sklearn.ensemble import RandomForestClassifier\n",
        "\n",
        "text_classifier = RandomForestClassifier(n_estimators=200, random_state=0)\n",
        "text_classifier.fit(review_train_v,ytrain)\n",
        "predictions = text_classifier.predict(review_test_v)\n",
        "\n",
        "print_result(ytest, predictions)\n",
        "print_report(ytest, predictions)\n"
      ],
      "execution_count": 37,
      "outputs": [
        {
          "output_type": "stream",
          "text": [
            "              precision    recall  f1-score   support\n",
            "\n",
            "           0       0.82      0.35      0.49        51\n",
            "           1       0.95      0.99      0.97       579\n",
            "\n",
            "    accuracy                           0.94       630\n",
            "   macro avg       0.88      0.67      0.73       630\n",
            "weighted avg       0.94      0.94      0.93       630\n",
            "\n",
            "Accuracy Score:0.9412698412698413\n",
            "F1 Score:0.9688289806234204\n",
            "AUCROC Score:0.6730163568017881\n"
          ],
          "name": "stdout"
        },
        {
          "output_type": "display_data",
          "data": {
            "image/png": "[encoded data removed]",
            "text/plain": [
              "<Figure size 432x288 with 2 Axes>"
            ]
          },
          "metadata": {
            "tags": [],
            "needs_background": "light"
          }
        }
      ]
    },
    {
      "cell_type": "code",
      "metadata": {
        "colab": {
          "base_uri": "https://localhost:8080/",
          "height": 502
        },
        "id": "S_rQsd_V82Yp",
        "outputId": "cb8540d8-ad32-4f50-9b61-e1e06862b6af"
      },
      "source": [
        "#TFIDF model randomforest\n",
        "\n",
        "text_classifier.fit(review_train_tfd,ytrain)\n",
        "predictions = text_classifier.predict(review_test_tfd)\n",
        "\n",
        "print_result(ytest, predictions)\n",
        "print_report(ytest, predictions)"
      ],
      "execution_count": 38,
      "outputs": [
        {
          "output_type": "stream",
          "text": [
            "              precision    recall  f1-score   support\n",
            "\n",
            "           0       1.00      0.29      0.45        51\n",
            "           1       0.94      1.00      0.97       579\n",
            "\n",
            "    accuracy                           0.94       630\n",
            "   macro avg       0.97      0.65      0.71       630\n",
            "weighted avg       0.95      0.94      0.93       630\n",
            "\n",
            "Accuracy Score:0.9428571428571428\n",
            "F1 Score:0.9698492462311558\n",
            "AUCROC Score:0.6470588235294117\n"
          ],
          "name": "stdout"
        },
        {
          "output_type": "display_data",
          "data": {
            "image/png": "[encoded data removed]",
            "text/plain": [
              "<Figure size 432x288 with 2 Axes>"
            ]
          },
          "metadata": {
            "tags": [],
            "needs_background": "light"
          }
        }
      ]
    },
    {
      "cell_type": "markdown",
      "metadata": {
        "id": "ST5gcIbE82Yp"
      },
      "source": [
        "**SVM**"
      ]
    },
    {
      "cell_type": "code",
      "metadata": {
        "colab": {
          "base_uri": "https://localhost:8080/",
          "height": 502
        },
        "id": "8mWtIAe882Yp",
        "outputId": "fbcb2aee-4319-43b2-d7e7-96a613822769"
      },
      "source": [
        "#Bow model SVM\n",
        "svm = SVC(kernel='linear')\n",
        "svm.fit(review_train_v,ytrain)\n",
        "ypred_svm = svm.predict(review_test_v)\n",
        "\n",
        "print_result(ytest, ypred_svm)\n",
        "print_report(ytest, ypred_svm)"
      ],
      "execution_count": 41,
      "outputs": [
        {
          "output_type": "stream",
          "text": [
            "              precision    recall  f1-score   support\n",
            "\n",
            "           0       0.63      0.57      0.60        51\n",
            "           1       0.96      0.97      0.97       579\n",
            "\n",
            "    accuracy                           0.94       630\n",
            "   macro avg       0.80      0.77      0.78       630\n",
            "weighted avg       0.94      0.94      0.94       630\n",
            "\n",
            "Accuracy Score:0.9380952380952381\n",
            "F1 Score:0.9664660361134996\n",
            "AUCROC Score:0.7696332418977954\n"
          ],
          "name": "stdout"
        },
        {
          "output_type": "display_data",
          "data": {
            "image/png": "[encoded data removed]",
            "text/plain": [
              "<Figure size 432x288 with 2 Axes>"
            ]
          },
          "metadata": {
            "tags": [],
            "needs_background": "light"
          }
        }
      ]
    },
    {
      "cell_type": "code",
      "metadata": {
        "colab": {
          "base_uri": "https://localhost:8080/",
          "height": 502
        },
        "id": "4s63kEbJ82Yp",
        "outputId": "c86d2194-c312-46c1-dbd4-b7ad3088c69c"
      },
      "source": [
        "#TFIDF model SVM\n",
        "svm.fit(review_train_tfd,ytrain)\n",
        "ypred_tfd_svm = svm.predict(review_test_tfd)\n",
        "\n",
        "print_result(ytest, ypred_tfd_svm)\n",
        "print_report(ytest, ypred_tfd_svm)\n"
      ],
      "execution_count": 42,
      "outputs": [
        {
          "output_type": "stream",
          "text": [
            "              precision    recall  f1-score   support\n",
            "\n",
            "           0       0.73      0.22      0.33        51\n",
            "           1       0.93      0.99      0.96       579\n",
            "\n",
            "    accuracy                           0.93       630\n",
            "   macro avg       0.83      0.60      0.65       630\n",
            "weighted avg       0.92      0.93      0.91       630\n",
            "\n",
            "Accuracy Score:0.9301587301587302\n",
            "F1 Score:0.9631490787269682\n",
            "AUCROC Score:0.6043889058213959\n"
          ],
          "name": "stdout"
        },
        {
          "output_type": "display_data",
          "data": {
            "image/png": "[encoded data removed]",
            "text/plain": [
              "<Figure size 432x288 with 2 Axes>"
            ]
          },
          "metadata": {
            "tags": [],
            "needs_background": "light"
          }
        }
      ]
    },
    {
      "cell_type": "markdown",
      "metadata": {
        "id": "cSise1M082Yp"
      },
      "source": [
        "**LOGISTIC REGRESSION**"
      ]
    },
    {
      "cell_type": "code",
      "metadata": {
        "colab": {
          "base_uri": "https://localhost:8080/",
          "height": 502
        },
        "id": "14S0aVBZ82Yq",
        "outputId": "1add0e7f-53c7-4e19-f84c-853018fcb08b"
      },
      "source": [
        "#BOW MODEL\n",
        "from sklearn.linear_model import LogisticRegression\n",
        "lr = LogisticRegression(random_state=0)\n",
        "lr.fit(review_train_v,ytrain)\n",
        "ypred_lr = svm.predict(review_test_v)\n",
        "\n",
        "print_result(ytest, ypred_lr)\n",
        "print_report(ytest, ypred_lr)\n"
      ],
      "execution_count": 43,
      "outputs": [
        {
          "output_type": "stream",
          "text": [
            "              precision    recall  f1-score   support\n",
            "\n",
            "           0       0.47      0.61      0.53        51\n",
            "           1       0.96      0.94      0.95       579\n",
            "\n",
            "    accuracy                           0.91       630\n",
            "   macro avg       0.72      0.77      0.74       630\n",
            "weighted avg       0.92      0.91      0.92       630\n",
            "\n",
            "Accuracy Score:0.9126984126984127\n",
            "F1 Score:0.9518810148731408\n",
            "AUCROC Score:0.7736970435842732\n"
          ],
          "name": "stdout"
        },
        {
          "output_type": "display_data",
          "data": {
            "image/png": "[encoded data removed]",
            "text/plain": [
              "<Figure size 432x288 with 2 Axes>"
            ]
          },
          "metadata": {
            "tags": [],
            "needs_background": "light"
          }
        }
      ]
    },
    {
      "cell_type": "code",
      "metadata": {
        "colab": {
          "base_uri": "https://localhost:8080/",
          "height": 502
        },
        "id": "fzYK622U82Yq",
        "outputId": "688e6dd4-8bd1-42a5-f5f9-1be511049a6d"
      },
      "source": [
        "#TFIDF MODEL\n",
        "lr.fit(review_train_tfd,ytrain)\n",
        "ypred_lr_tfd = svm.predict(review_test_tfd)\n",
        "\n",
        "print_result(ytest, ypred_lr_tfd)\n",
        "print_report(ytest, ypred_lr_tfd)"
      ],
      "execution_count": 44,
      "outputs": [
        {
          "output_type": "stream",
          "text": [
            "              precision    recall  f1-score   support\n",
            "\n",
            "           0       0.73      0.22      0.33        51\n",
            "           1       0.93      0.99      0.96       579\n",
            "\n",
            "    accuracy                           0.93       630\n",
            "   macro avg       0.83      0.60      0.65       630\n",
            "weighted avg       0.92      0.93      0.91       630\n",
            "\n",
            "Accuracy Score:0.9301587301587302\n",
            "F1 Score:0.9631490787269682\n",
            "AUCROC Score:0.6043889058213959\n"
          ],
          "name": "stdout"
        },
        {
          "output_type": "display_data",
          "data": {
            "image/png": "[encoded data removed]",
            "text/plain": [
              "<Figure size 432x288 with 2 Axes>"
            ]
          },
          "metadata": {
            "tags": [],
            "needs_background": "light"
          }
        }
      ]
    },
    {
      "cell_type": "markdown",
      "metadata": {
        "id": "vclAIDah82Yq"
      },
      "source": [
        "**VERIFYING THE RESULTS**"
      ]
    },
    {
      "cell_type": "code",
      "metadata": {
        "colab": {
          "base_uri": "https://localhost:8080/"
        },
        "id": "3Avy7lCG82Yq",
        "outputId": "26915303-b81d-4c59-e723-9e8baea39300"
      },
      "source": [
        "#Verifying the results\n",
        "def get_row_index(ytest,row_number):\n",
        "    t_text = ytest.reset_index()\n",
        "    return t_text['index'][row_number]\n",
        "\n",
        "i=7\n",
        "print('Predicted Review:', \"Positive\" if ytest.iloc[i] else \"Negative\")\n",
        "print('Actual Review:',reviews[get_row_index(ytest,i)])"
      ],
      "execution_count": 45,
      "outputs": [
        {
          "output_type": "stream",
          "text": [
            "Predicted Review: Positive\n",
            "Actual Review: spot productecho white wellmade\n"
          ],
          "name": "stdout"
        }
      ]
    }
  ]
}